{
 "cells": [
  {
   "cell_type": "markdown",
   "metadata": {},
   "source": [
    "# Outage Duration Prediction\n",
    "\n",
    "**Name(s)**: Neil Sharma, Xiang Ding\n",
    "\n",
    "**Website Link**: (your website link)"
   ]
  },
  {
   "cell_type": "markdown",
   "metadata": {},
   "source": [
    "## Code"
   ]
  },
  {
   "cell_type": "code",
   "execution_count": 4,
   "metadata": {
    "ExecuteTime": {
     "end_time": "2019-10-31T23:36:28.652554Z",
     "start_time": "2019-10-31T23:36:27.180520Z"
    }
   },
   "outputs": [],
   "source": [
    "#Default Libraries\n",
    "import os\n",
    "\n",
    "#Third Party Libraries\n",
    "import numpy as np\n",
    "import pandas as pd\n",
    "import plotly.express as px\n",
    "import plotly.graph_objects as go\n",
    "\n",
    "#Sklearn\n",
    "from sklearn.compose import ColumnTransformer, TransformedTargetRegressor\n",
    "from sklearn.ensemble import GradientBoostingRegressor, RandomForestRegressor\n",
    "from sklearn.impute import SimpleImputer\n",
    "from sklearn.linear_model import (HuberRegressor, LinearRegression,\n",
    "                                  QuantileRegressor, SGDRegressor)\n",
    "from sklearn.metrics import mean_absolute_error, mean_squared_error, r2_score\n",
    "from sklearn.model_selection import GridSearchCV, train_test_split\n",
    "from sklearn.pipeline import Pipeline\n",
    "from sklearn.preprocessing import (FunctionTransformer, OneHotEncoder,\n",
    "                                   QuantileTransformer, StandardScaler)\n",
    "\n",
    "pd.options.plotting.backend = 'plotly'"
   ]
  },
  {
   "cell_type": "markdown",
   "metadata": {},
   "source": [
    "### Framing the Problem"
   ]
  },
  {
   "cell_type": "markdown",
   "metadata": {},
   "source": [
    "Prediction Problem Type: This problem type is regression, as we are trying to predict a continuous quantity, in this case how long an outage occurs.\n",
    "\n",
    "Response Variable: Our response variable will be, in minutes, how long an outage occurs for. This value can be seen in the dataset as 'OUTAGE.DURATION'\n",
    "\n",
    "Metric: We will use mean squared error (MSE) loss as our metric for evaluation. We decided on MSE due to its sensitivity to outliers and its ability to be easily understood as it maintains the same units as our response variable, 'OUTAGE.DURATION'."
   ]
  },
  {
   "cell_type": "code",
   "execution_count": 89,
   "metadata": {
    "ExecuteTime": {
     "end_time": "2019-10-31T23:36:28.657068Z",
     "start_time": "2019-10-31T23:36:28.654650Z"
    }
   },
   "outputs": [
    {
     "data": {
      "text/html": [
       "<div>\n",
       "<style scoped>\n",
       "    .dataframe tbody tr th:only-of-type {\n",
       "        vertical-align: middle;\n",
       "    }\n",
       "\n",
       "    .dataframe tbody tr th {\n",
       "        vertical-align: top;\n",
       "    }\n",
       "\n",
       "    .dataframe thead th {\n",
       "        text-align: right;\n",
       "    }\n",
       "</style>\n",
       "<table border=\"1\" class=\"dataframe\">\n",
       "  <thead>\n",
       "    <tr style=\"text-align: right;\">\n",
       "      <th></th>\n",
       "      <th>MONTH</th>\n",
       "      <th>OUTAGE.START.TIME</th>\n",
       "      <th>ANOMALY.LEVEL</th>\n",
       "      <th>CLIMATE.CATEGORY</th>\n",
       "      <th>U.S._STATE</th>\n",
       "      <th>NERC.REGION</th>\n",
       "      <th>CLIMATE.REGION</th>\n",
       "      <th>CAUSE.CATEGORY</th>\n",
       "      <th>CAUSE.CATEGORY.DETAIL</th>\n",
       "      <th>POPULATION</th>\n",
       "      <th>POPPCT_URBAN</th>\n",
       "      <th>POPDEN_URBAN</th>\n",
       "      <th>POPDEN_UC</th>\n",
       "      <th>POPDEN_RURAL</th>\n",
       "      <th>AREAPCT_URBAN</th>\n",
       "      <th>AREAPCT_UC</th>\n",
       "      <th>RES.PRICE</th>\n",
       "      <th>COM.PRICE</th>\n",
       "      <th>IND.PRICE</th>\n",
       "      <th>TOTAL.PRICE</th>\n",
       "      <th>RES.SALES</th>\n",
       "      <th>COM.SALES</th>\n",
       "      <th>IND.SALES</th>\n",
       "      <th>TOTAL.SALES</th>\n",
       "      <th>PI.UTIL.OFUSA</th>\n",
       "      <th>HURRICANE.NAMES</th>\n",
       "      <th>OUTAGE.DURATION</th>\n",
       "      <th>CUSTOMERS.AFFECTED</th>\n",
       "      <th>OUTAGE.START.CATEGORY</th>\n",
       "    </tr>\n",
       "    <tr>\n",
       "      <th>OBS</th>\n",
       "      <th></th>\n",
       "      <th></th>\n",
       "      <th></th>\n",
       "      <th></th>\n",
       "      <th></th>\n",
       "      <th></th>\n",
       "      <th></th>\n",
       "      <th></th>\n",
       "      <th></th>\n",
       "      <th></th>\n",
       "      <th></th>\n",
       "      <th></th>\n",
       "      <th></th>\n",
       "      <th></th>\n",
       "      <th></th>\n",
       "      <th></th>\n",
       "      <th></th>\n",
       "      <th></th>\n",
       "      <th></th>\n",
       "      <th></th>\n",
       "      <th></th>\n",
       "      <th></th>\n",
       "      <th></th>\n",
       "      <th></th>\n",
       "      <th></th>\n",
       "      <th></th>\n",
       "      <th></th>\n",
       "      <th></th>\n",
       "      <th></th>\n",
       "    </tr>\n",
       "  </thead>\n",
       "  <tbody>\n",
       "    <tr>\n",
       "      <th>1.0</th>\n",
       "      <td>7.0</td>\n",
       "      <td>17:00:00</td>\n",
       "      <td>-0.3</td>\n",
       "      <td>normal</td>\n",
       "      <td>Minnesota</td>\n",
       "      <td>MRO</td>\n",
       "      <td>East North Central</td>\n",
       "      <td>severe weather</td>\n",
       "      <td>NaN</td>\n",
       "      <td>5348119.0</td>\n",
       "      <td>73.27</td>\n",
       "      <td>2279</td>\n",
       "      <td>1700.5</td>\n",
       "      <td>18.2</td>\n",
       "      <td>2.14</td>\n",
       "      <td>0.6</td>\n",
       "      <td>11.6</td>\n",
       "      <td>9.18</td>\n",
       "      <td>6.81</td>\n",
       "      <td>9.28</td>\n",
       "      <td>2332915</td>\n",
       "      <td>2114774</td>\n",
       "      <td>2113291</td>\n",
       "      <td>6562520</td>\n",
       "      <td>2.2</td>\n",
       "      <td>NaN</td>\n",
       "      <td>3060</td>\n",
       "      <td>70000.0</td>\n",
       "      <td>Afternoon/Evening</td>\n",
       "    </tr>\n",
       "    <tr>\n",
       "      <th>2.0</th>\n",
       "      <td>5.0</td>\n",
       "      <td>18:38:00</td>\n",
       "      <td>-0.1</td>\n",
       "      <td>normal</td>\n",
       "      <td>Minnesota</td>\n",
       "      <td>MRO</td>\n",
       "      <td>East North Central</td>\n",
       "      <td>intentional attack</td>\n",
       "      <td>vandalism</td>\n",
       "      <td>5457125.0</td>\n",
       "      <td>73.27</td>\n",
       "      <td>2279</td>\n",
       "      <td>1700.5</td>\n",
       "      <td>18.2</td>\n",
       "      <td>2.14</td>\n",
       "      <td>0.6</td>\n",
       "      <td>12.12</td>\n",
       "      <td>9.71</td>\n",
       "      <td>6.49</td>\n",
       "      <td>9.28</td>\n",
       "      <td>1586986</td>\n",
       "      <td>1807756</td>\n",
       "      <td>1887927</td>\n",
       "      <td>5284231</td>\n",
       "      <td>2.2</td>\n",
       "      <td>NaN</td>\n",
       "      <td>1</td>\n",
       "      <td>NaN</td>\n",
       "      <td>Afternoon/Evening</td>\n",
       "    </tr>\n",
       "    <tr>\n",
       "      <th>3.0</th>\n",
       "      <td>10.0</td>\n",
       "      <td>20:00:00</td>\n",
       "      <td>-1.5</td>\n",
       "      <td>cold</td>\n",
       "      <td>Minnesota</td>\n",
       "      <td>MRO</td>\n",
       "      <td>East North Central</td>\n",
       "      <td>severe weather</td>\n",
       "      <td>heavy wind</td>\n",
       "      <td>5310903.0</td>\n",
       "      <td>73.27</td>\n",
       "      <td>2279</td>\n",
       "      <td>1700.5</td>\n",
       "      <td>18.2</td>\n",
       "      <td>2.14</td>\n",
       "      <td>0.6</td>\n",
       "      <td>10.87</td>\n",
       "      <td>8.19</td>\n",
       "      <td>6.07</td>\n",
       "      <td>8.15</td>\n",
       "      <td>1467293</td>\n",
       "      <td>1801683</td>\n",
       "      <td>1951295</td>\n",
       "      <td>5222116</td>\n",
       "      <td>2.1</td>\n",
       "      <td>NaN</td>\n",
       "      <td>3000</td>\n",
       "      <td>70000.0</td>\n",
       "      <td>Afternoon/Evening</td>\n",
       "    </tr>\n",
       "    <tr>\n",
       "      <th>4.0</th>\n",
       "      <td>6.0</td>\n",
       "      <td>04:30:00</td>\n",
       "      <td>-0.1</td>\n",
       "      <td>normal</td>\n",
       "      <td>Minnesota</td>\n",
       "      <td>MRO</td>\n",
       "      <td>East North Central</td>\n",
       "      <td>severe weather</td>\n",
       "      <td>thunderstorm</td>\n",
       "      <td>5380443.0</td>\n",
       "      <td>73.27</td>\n",
       "      <td>2279</td>\n",
       "      <td>1700.5</td>\n",
       "      <td>18.2</td>\n",
       "      <td>2.14</td>\n",
       "      <td>0.6</td>\n",
       "      <td>11.79</td>\n",
       "      <td>9.25</td>\n",
       "      <td>6.71</td>\n",
       "      <td>9.19</td>\n",
       "      <td>1851519</td>\n",
       "      <td>1941174</td>\n",
       "      <td>1993026</td>\n",
       "      <td>5787064</td>\n",
       "      <td>2.2</td>\n",
       "      <td>NaN</td>\n",
       "      <td>2550</td>\n",
       "      <td>68200.0</td>\n",
       "      <td>Afternoon/Evening</td>\n",
       "    </tr>\n",
       "    <tr>\n",
       "      <th>5.0</th>\n",
       "      <td>7.0</td>\n",
       "      <td>02:00:00</td>\n",
       "      <td>1.2</td>\n",
       "      <td>warm</td>\n",
       "      <td>Minnesota</td>\n",
       "      <td>MRO</td>\n",
       "      <td>East North Central</td>\n",
       "      <td>severe weather</td>\n",
       "      <td>NaN</td>\n",
       "      <td>5489594.0</td>\n",
       "      <td>73.27</td>\n",
       "      <td>2279</td>\n",
       "      <td>1700.5</td>\n",
       "      <td>18.2</td>\n",
       "      <td>2.14</td>\n",
       "      <td>0.6</td>\n",
       "      <td>13.07</td>\n",
       "      <td>10.16</td>\n",
       "      <td>7.74</td>\n",
       "      <td>10.43</td>\n",
       "      <td>2028875</td>\n",
       "      <td>2161612</td>\n",
       "      <td>1777937</td>\n",
       "      <td>5970339</td>\n",
       "      <td>2.2</td>\n",
       "      <td>NaN</td>\n",
       "      <td>1740</td>\n",
       "      <td>250000.0</td>\n",
       "      <td>Afternoon/Evening</td>\n",
       "    </tr>\n",
       "    <tr>\n",
       "      <th>...</th>\n",
       "      <td>...</td>\n",
       "      <td>...</td>\n",
       "      <td>...</td>\n",
       "      <td>...</td>\n",
       "      <td>...</td>\n",
       "      <td>...</td>\n",
       "      <td>...</td>\n",
       "      <td>...</td>\n",
       "      <td>...</td>\n",
       "      <td>...</td>\n",
       "      <td>...</td>\n",
       "      <td>...</td>\n",
       "      <td>...</td>\n",
       "      <td>...</td>\n",
       "      <td>...</td>\n",
       "      <td>...</td>\n",
       "      <td>...</td>\n",
       "      <td>...</td>\n",
       "      <td>...</td>\n",
       "      <td>...</td>\n",
       "      <td>...</td>\n",
       "      <td>...</td>\n",
       "      <td>...</td>\n",
       "      <td>...</td>\n",
       "      <td>...</td>\n",
       "      <td>...</td>\n",
       "      <td>...</td>\n",
       "      <td>...</td>\n",
       "      <td>...</td>\n",
       "    </tr>\n",
       "    <tr>\n",
       "      <th>1527.0</th>\n",
       "      <td>3.0</td>\n",
       "      <td>00:00:00</td>\n",
       "      <td>1.6</td>\n",
       "      <td>warm</td>\n",
       "      <td>Idaho</td>\n",
       "      <td>WECC</td>\n",
       "      <td>Northwest</td>\n",
       "      <td>intentional attack</td>\n",
       "      <td>sabotage</td>\n",
       "      <td>1680026.0</td>\n",
       "      <td>70.58</td>\n",
       "      <td>2216.8</td>\n",
       "      <td>2004.7</td>\n",
       "      <td>5.6</td>\n",
       "      <td>0.6</td>\n",
       "      <td>0.19</td>\n",
       "      <td>9.8</td>\n",
       "      <td>7.66</td>\n",
       "      <td>5.98</td>\n",
       "      <td>8.05</td>\n",
       "      <td>678472</td>\n",
       "      <td>499372</td>\n",
       "      <td>479761</td>\n",
       "      <td>1657605</td>\n",
       "      <td>0.4</td>\n",
       "      <td>NaN</td>\n",
       "      <td>0</td>\n",
       "      <td>0.0</td>\n",
       "      <td>Afternoon/Evening</td>\n",
       "    </tr>\n",
       "    <tr>\n",
       "      <th>1529.0</th>\n",
       "      <td>7.0</td>\n",
       "      <td>15:45:00</td>\n",
       "      <td>-0.3</td>\n",
       "      <td>normal</td>\n",
       "      <td>Idaho</td>\n",
       "      <td>WECC</td>\n",
       "      <td>Northwest</td>\n",
       "      <td>system operability disruption</td>\n",
       "      <td>uncontrolled loss</td>\n",
       "      <td>1680026.0</td>\n",
       "      <td>70.58</td>\n",
       "      <td>2216.8</td>\n",
       "      <td>2004.7</td>\n",
       "      <td>5.6</td>\n",
       "      <td>0.6</td>\n",
       "      <td>0.19</td>\n",
       "      <td>NaN</td>\n",
       "      <td>NaN</td>\n",
       "      <td>NaN</td>\n",
       "      <td>NaN</td>\n",
       "      <td>NaN</td>\n",
       "      <td>NaN</td>\n",
       "      <td>NaN</td>\n",
       "      <td>NaN</td>\n",
       "      <td>0.4</td>\n",
       "      <td>NaN</td>\n",
       "      <td>220</td>\n",
       "      <td>NaN</td>\n",
       "      <td>Afternoon/Evening</td>\n",
       "    </tr>\n",
       "    <tr>\n",
       "      <th>1530.0</th>\n",
       "      <td>12.0</td>\n",
       "      <td>08:00:00</td>\n",
       "      <td>-0.9</td>\n",
       "      <td>cold</td>\n",
       "      <td>North Dakota</td>\n",
       "      <td>MRO</td>\n",
       "      <td>West North Central</td>\n",
       "      <td>public appeal</td>\n",
       "      <td>NaN</td>\n",
       "      <td>685326.0</td>\n",
       "      <td>59.9</td>\n",
       "      <td>2192.2</td>\n",
       "      <td>1868.2</td>\n",
       "      <td>3.9</td>\n",
       "      <td>0.27</td>\n",
       "      <td>0.1</td>\n",
       "      <td>8.41</td>\n",
       "      <td>7.8</td>\n",
       "      <td>6.2</td>\n",
       "      <td>7.56</td>\n",
       "      <td>488853</td>\n",
       "      <td>438133</td>\n",
       "      <td>386693</td>\n",
       "      <td>1313678</td>\n",
       "      <td>0.5</td>\n",
       "      <td>NaN</td>\n",
       "      <td>720</td>\n",
       "      <td>34500.0</td>\n",
       "      <td>Afternoon/Evening</td>\n",
       "    </tr>\n",
       "    <tr>\n",
       "      <th>1532.0</th>\n",
       "      <td>8.0</td>\n",
       "      <td>22:54:00</td>\n",
       "      <td>0.5</td>\n",
       "      <td>warm</td>\n",
       "      <td>South Dakota</td>\n",
       "      <td>RFC</td>\n",
       "      <td>West North Central</td>\n",
       "      <td>islanding</td>\n",
       "      <td>NaN</td>\n",
       "      <td>807067.0</td>\n",
       "      <td>56.65</td>\n",
       "      <td>2038.3</td>\n",
       "      <td>1905.4</td>\n",
       "      <td>4.7</td>\n",
       "      <td>0.3</td>\n",
       "      <td>0.15</td>\n",
       "      <td>9.25</td>\n",
       "      <td>7.47</td>\n",
       "      <td>5.53</td>\n",
       "      <td>7.67</td>\n",
       "      <td>337874</td>\n",
       "      <td>370771</td>\n",
       "      <td>215406</td>\n",
       "      <td>924051</td>\n",
       "      <td>0.3</td>\n",
       "      <td>NaN</td>\n",
       "      <td>59</td>\n",
       "      <td>NaN</td>\n",
       "      <td>Afternoon/Evening</td>\n",
       "    </tr>\n",
       "    <tr>\n",
       "      <th>1533.0</th>\n",
       "      <td>8.0</td>\n",
       "      <td>11:00:00</td>\n",
       "      <td>0.5</td>\n",
       "      <td>warm</td>\n",
       "      <td>South Dakota</td>\n",
       "      <td>MRO</td>\n",
       "      <td>West North Central</td>\n",
       "      <td>islanding</td>\n",
       "      <td>NaN</td>\n",
       "      <td>807067.0</td>\n",
       "      <td>56.65</td>\n",
       "      <td>2038.3</td>\n",
       "      <td>1905.4</td>\n",
       "      <td>4.7</td>\n",
       "      <td>0.3</td>\n",
       "      <td>0.15</td>\n",
       "      <td>9.25</td>\n",
       "      <td>7.47</td>\n",
       "      <td>5.53</td>\n",
       "      <td>7.67</td>\n",
       "      <td>337874</td>\n",
       "      <td>370771</td>\n",
       "      <td>215406</td>\n",
       "      <td>924051</td>\n",
       "      <td>0.3</td>\n",
       "      <td>NaN</td>\n",
       "      <td>181</td>\n",
       "      <td>NaN</td>\n",
       "      <td>Afternoon/Evening</td>\n",
       "    </tr>\n",
       "  </tbody>\n",
       "</table>\n",
       "<p>1476 rows × 29 columns</p>\n",
       "</div>"
      ],
      "text/plain": [
       "        MONTH OUTAGE.START.TIME ANOMALY.LEVEL CLIMATE.CATEGORY    U.S._STATE  \\\n",
       "OBS                                                                            \n",
       "1.0       7.0          17:00:00          -0.3           normal     Minnesota   \n",
       "2.0       5.0          18:38:00          -0.1           normal     Minnesota   \n",
       "3.0      10.0          20:00:00          -1.5             cold     Minnesota   \n",
       "4.0       6.0          04:30:00          -0.1           normal     Minnesota   \n",
       "5.0       7.0          02:00:00           1.2             warm     Minnesota   \n",
       "...       ...               ...           ...              ...           ...   \n",
       "1527.0    3.0          00:00:00           1.6             warm         Idaho   \n",
       "1529.0    7.0          15:45:00          -0.3           normal         Idaho   \n",
       "1530.0   12.0          08:00:00          -0.9             cold  North Dakota   \n",
       "1532.0    8.0          22:54:00           0.5             warm  South Dakota   \n",
       "1533.0    8.0          11:00:00           0.5             warm  South Dakota   \n",
       "\n",
       "       NERC.REGION      CLIMATE.REGION                 CAUSE.CATEGORY  \\\n",
       "OBS                                                                     \n",
       "1.0            MRO  East North Central                 severe weather   \n",
       "2.0            MRO  East North Central             intentional attack   \n",
       "3.0            MRO  East North Central                 severe weather   \n",
       "4.0            MRO  East North Central                 severe weather   \n",
       "5.0            MRO  East North Central                 severe weather   \n",
       "...            ...                 ...                            ...   \n",
       "1527.0        WECC           Northwest             intentional attack   \n",
       "1529.0        WECC           Northwest  system operability disruption   \n",
       "1530.0         MRO  West North Central                  public appeal   \n",
       "1532.0         RFC  West North Central                      islanding   \n",
       "1533.0         MRO  West North Central                      islanding   \n",
       "\n",
       "       CAUSE.CATEGORY.DETAIL  POPULATION POPPCT_URBAN POPDEN_URBAN POPDEN_UC  \\\n",
       "OBS                                                                            \n",
       "1.0                      NaN   5348119.0        73.27         2279    1700.5   \n",
       "2.0                vandalism   5457125.0        73.27         2279    1700.5   \n",
       "3.0               heavy wind   5310903.0        73.27         2279    1700.5   \n",
       "4.0             thunderstorm   5380443.0        73.27         2279    1700.5   \n",
       "5.0                      NaN   5489594.0        73.27         2279    1700.5   \n",
       "...                      ...         ...          ...          ...       ...   \n",
       "1527.0              sabotage   1680026.0        70.58       2216.8    2004.7   \n",
       "1529.0     uncontrolled loss   1680026.0        70.58       2216.8    2004.7   \n",
       "1530.0                   NaN    685326.0         59.9       2192.2    1868.2   \n",
       "1532.0                   NaN    807067.0        56.65       2038.3    1905.4   \n",
       "1533.0                   NaN    807067.0        56.65       2038.3    1905.4   \n",
       "\n",
       "       POPDEN_RURAL AREAPCT_URBAN AREAPCT_UC RES.PRICE COM.PRICE IND.PRICE  \\\n",
       "OBS                                                                          \n",
       "1.0            18.2          2.14        0.6      11.6      9.18      6.81   \n",
       "2.0            18.2          2.14        0.6     12.12      9.71      6.49   \n",
       "3.0            18.2          2.14        0.6     10.87      8.19      6.07   \n",
       "4.0            18.2          2.14        0.6     11.79      9.25      6.71   \n",
       "5.0            18.2          2.14        0.6     13.07     10.16      7.74   \n",
       "...             ...           ...        ...       ...       ...       ...   \n",
       "1527.0          5.6           0.6       0.19       9.8      7.66      5.98   \n",
       "1529.0          5.6           0.6       0.19       NaN       NaN       NaN   \n",
       "1530.0          3.9          0.27        0.1      8.41       7.8       6.2   \n",
       "1532.0          4.7           0.3       0.15      9.25      7.47      5.53   \n",
       "1533.0          4.7           0.3       0.15      9.25      7.47      5.53   \n",
       "\n",
       "       TOTAL.PRICE RES.SALES COM.SALES IND.SALES TOTAL.SALES PI.UTIL.OFUSA  \\\n",
       "OBS                                                                          \n",
       "1.0           9.28   2332915   2114774   2113291     6562520           2.2   \n",
       "2.0           9.28   1586986   1807756   1887927     5284231           2.2   \n",
       "3.0           8.15   1467293   1801683   1951295     5222116           2.1   \n",
       "4.0           9.19   1851519   1941174   1993026     5787064           2.2   \n",
       "5.0          10.43   2028875   2161612   1777937     5970339           2.2   \n",
       "...            ...       ...       ...       ...         ...           ...   \n",
       "1527.0        8.05    678472    499372    479761     1657605           0.4   \n",
       "1529.0         NaN       NaN       NaN       NaN         NaN           0.4   \n",
       "1530.0        7.56    488853    438133    386693     1313678           0.5   \n",
       "1532.0        7.67    337874    370771    215406      924051           0.3   \n",
       "1533.0        7.67    337874    370771    215406      924051           0.3   \n",
       "\n",
       "       HURRICANE.NAMES OUTAGE.DURATION  CUSTOMERS.AFFECTED  \\\n",
       "OBS                                                          \n",
       "1.0                NaN            3060             70000.0   \n",
       "2.0                NaN               1                 NaN   \n",
       "3.0                NaN            3000             70000.0   \n",
       "4.0                NaN            2550             68200.0   \n",
       "5.0                NaN            1740            250000.0   \n",
       "...                ...             ...                 ...   \n",
       "1527.0             NaN               0                 0.0   \n",
       "1529.0             NaN             220                 NaN   \n",
       "1530.0             NaN             720             34500.0   \n",
       "1532.0             NaN              59                 NaN   \n",
       "1533.0             NaN             181                 NaN   \n",
       "\n",
       "       OUTAGE.START.CATEGORY  \n",
       "OBS                           \n",
       "1.0        Afternoon/Evening  \n",
       "2.0        Afternoon/Evening  \n",
       "3.0        Afternoon/Evening  \n",
       "4.0        Afternoon/Evening  \n",
       "5.0        Afternoon/Evening  \n",
       "...                      ...  \n",
       "1527.0     Afternoon/Evening  \n",
       "1529.0     Afternoon/Evening  \n",
       "1530.0     Afternoon/Evening  \n",
       "1532.0     Afternoon/Evening  \n",
       "1533.0     Afternoon/Evening  \n",
       "\n",
       "[1476 rows x 29 columns]"
      ]
     },
     "execution_count": 89,
     "metadata": {},
     "output_type": "execute_result"
    }
   ],
   "source": [
    "##################################################\n",
    "#     DATA CLEANING CODE FROM PROJECT 3          #\n",
    "##################################################\n",
    "df = pd.read_excel('outage.xlsx', skiprows = 5)\n",
    "\n",
    "df = df.set_index('OBS')\n",
    "df = df.iloc[1: , :]\n",
    "df = df[df.columns[1:]]\n",
    "\n",
    "#Convert to pd.to_datetime\n",
    "df['OUTAGE.START.DATE'] = pd.to_datetime(df['OUTAGE.START.DATE'])\n",
    "df['OUTAGE.START.DATE'] = df['OUTAGE.START.DATE'].dt.date\n",
    "df['OUTAGE.RESTORATION.DATE'] = pd.to_datetime(df['OUTAGE.RESTORATION.DATE'])\n",
    "df['OUTAGE.RESTORATION.DATE'] = df['OUTAGE.RESTORATION.DATE'].dt.date\n",
    "df['CUSTOMERS.AFFECTED_MISSING'] = df['CUSTOMERS.AFFECTED'].isna().astype(int)\n",
    "\n",
    "\n",
    "#Grabbing columns we think are needed and dropping rows with nan values for response variable\n",
    "df = df[['MONTH', 'OUTAGE.START.TIME', 'ANOMALY.LEVEL', 'CLIMATE.CATEGORY', 'U.S._STATE', \n",
    "            'NERC.REGION', 'CLIMATE.REGION', 'CAUSE.CATEGORY', 'CAUSE.CATEGORY.DETAIL', 'POPULATION',\n",
    "            'POPPCT_URBAN', 'POPDEN_URBAN', 'POPDEN_UC', 'POPDEN_RURAL', 'AREAPCT_URBAN', 'AREAPCT_UC',\n",
    "            'RES.PRICE', 'COM.PRICE', 'IND.PRICE', 'TOTAL.PRICE', 'RES.SALES', 'COM.SALES', 'IND.SALES', 'TOTAL.SALES',\n",
    "            'PI.UTIL.OFUSA', 'HURRICANE.NAMES', 'OUTAGE.DURATION', 'CUSTOMERS.AFFECTED']]\n",
    "df = df.dropna(subset=['OUTAGE.DURATION'])\n",
    "\n",
    "#Categorize the times for morning and afternoon/evening\n",
    "def categorize_time(time_str):\n",
    "    if pd.isna(time_str):\n",
    "        return 'Unknown'  \n",
    "    time = pd.to_datetime(time_str, format='%I:%M:%S %p', errors='coerce')\n",
    "    if time.hour < 12:\n",
    "        return 'Morning'\n",
    "    else:\n",
    "        return 'Afternoon/Evening'\n",
    "\n",
    "# Apply the function to create new columns\n",
    "df['OUTAGE.START.CATEGORY'] = df['OUTAGE.START.TIME'].apply(categorize_time)\n",
    "#df['OUTAGE.END.CATEGORY'] = df['OUTAGE.RESTORATION.TIME'].apply(categorize_time)\n",
    "\n",
    "\n",
    "pd.set_option('display.max_columns', None)\n",
    "df"
   ]
  },
  {
   "cell_type": "markdown",
   "metadata": {},
   "source": [
    "### Baseline Model"
   ]
  },
  {
   "cell_type": "code",
   "execution_count": 100,
   "metadata": {
    "ExecuteTime": {
     "end_time": "2019-10-31T23:36:28.662099Z",
     "start_time": "2019-10-31T23:36:28.660016Z"
    }
   },
   "outputs": [
    {
     "name": "stdout",
     "output_type": "stream",
     "text": [
      "Mean Absolute Error: 2666.5076863993104\n"
     ]
    }
   ],
   "source": [
    "#############################################\n",
    "#             BASELINE MODEL                #\n",
    "#    Using two features,Linear Regression   #\n",
    "#               and MAE loss                #\n",
    "#############################################\n",
    "\n",
    "#Select our two features and response variable\n",
    "X = df[['ANOMALY.LEVEL','CAUSE.CATEGORY']]\n",
    "y = df['OUTAGE.DURATION']\n",
    "\n",
    "# Split the data\n",
    "X_train, X_test, y_train, y_test = train_test_split(X, y, test_size=0.2, random_state=69)\n",
    "\n",
    "# Preprocessing for numerical data: no transformation needed\n",
    "# Preprocessing for categorical data: OneHotEncoder\n",
    "preprocessor = ColumnTransformer(\n",
    "    transformers=[\n",
    "        ('cat', OneHotEncoder(), ['CAUSE.CATEGORY']),\n",
    "        ('standard', StandardScaler(), ['ANOMALY.LEVEL'])\n",
    "    ])\n",
    "\n",
    "# Create a pipeline\n",
    "model = Pipeline(steps=[('preprocessor', preprocessor),\n",
    "                        ('regressor', LinearRegression())])\n",
    "\n",
    "# Train the model\n",
    "model.fit(X_train, y_train)\n",
    "\n",
    "# Predict and evaluate\n",
    "y_pred = model.predict(X_test)\n",
    "mae = mean_absolute_error(y_test, y_pred)\n",
    "print(f'Mean Absolute Error: {mae}')"
   ]
  },
  {
   "cell_type": "code",
   "execution_count": 27,
   "metadata": {},
   "outputs": [
    {
     "data": {
      "application/vnd.plotly.v1+json": {
       "config": {
        "plotlyServerURL": "https://plot.ly"
       },
       "data": [
        {
         "mode": "markers",
         "name": "Actual Values",
         "type": "scatter",
         "x": [
          0,
          1,
          2,
          3,
          4,
          5,
          6,
          7,
          8,
          9,
          10,
          11,
          12,
          13,
          14,
          15,
          16,
          17,
          18,
          19,
          20,
          21,
          22,
          23,
          24,
          25,
          26,
          27,
          28,
          29,
          30,
          31,
          32,
          33,
          34,
          35,
          36,
          37,
          38,
          39,
          40,
          41,
          42,
          43,
          44,
          45,
          46,
          47,
          48,
          49,
          50,
          51,
          52,
          53,
          54,
          55,
          56,
          57,
          58,
          59,
          60,
          61,
          62,
          63,
          64,
          65,
          66,
          67,
          68,
          69,
          70,
          71,
          72,
          73,
          74,
          75,
          76,
          77,
          78,
          79,
          80,
          81,
          82,
          83,
          84,
          85,
          86,
          87,
          88,
          89,
          90,
          91,
          92,
          93,
          94,
          95,
          96,
          97,
          98,
          99,
          100,
          101,
          102,
          103,
          104,
          105,
          106,
          107,
          108,
          109,
          110,
          111,
          112,
          113,
          114,
          115,
          116,
          117,
          118,
          119,
          120,
          121,
          122,
          123,
          124,
          125,
          126,
          127,
          128,
          129,
          130,
          131,
          132,
          133,
          134,
          135,
          136,
          137,
          138,
          139,
          140,
          141,
          142,
          143,
          144,
          145,
          146,
          147,
          148,
          149,
          150,
          151,
          152,
          153,
          154,
          155,
          156,
          157,
          158,
          159,
          160,
          161,
          162,
          163,
          164,
          165,
          166,
          167,
          168,
          169,
          170,
          171,
          172,
          173,
          174,
          175,
          176,
          177,
          178,
          179,
          180,
          181,
          182,
          183,
          184,
          185,
          186,
          187,
          188,
          189,
          190,
          191,
          192,
          193,
          194,
          195,
          196,
          197,
          198,
          199,
          200,
          201,
          202,
          203,
          204,
          205,
          206,
          207,
          208,
          209,
          210,
          211
         ],
         "y": [
          3600,
          96,
          656,
          11,
          1950,
          2790,
          1710,
          1513,
          2612,
          2420,
          5840,
          766,
          3090,
          3305,
          120,
          3637,
          1826,
          732,
          90,
          160,
          44,
          1740,
          2070,
          3300,
          130,
          11880,
          180,
          4170,
          2640,
          7320,
          1320,
          4680,
          182,
          7371,
          115,
          73,
          11280,
          0,
          167,
          2700,
          5054,
          1560,
          10140,
          1955,
          174,
          13972,
          124,
          6030,
          885,
          2507,
          480,
          1830,
          3000,
          144,
          11296,
          95,
          159,
          1673,
          1,
          0,
          0,
          214,
          171,
          645,
          85,
          5355,
          13488,
          2985,
          2760,
          420,
          6685,
          5760,
          215,
          103,
          1,
          17,
          4921,
          2760,
          9855,
          333,
          98,
          11640,
          4920,
          0,
          2460,
          840,
          13679,
          1860,
          27,
          810,
          14190,
          4458,
          428,
          113,
          2089,
          1470,
          810,
          10619,
          245,
          1,
          4890,
          4080,
          56,
          76,
          2680,
          4338,
          2009,
          8670,
          2551,
          32,
          24780,
          7440,
          164,
          8979,
          13430,
          3600,
          21,
          2700,
          3300,
          300,
          388,
          1500,
          221,
          300,
          1906,
          53,
          10530,
          12,
          4320,
          0,
          0,
          881,
          240,
          348,
          27698,
          34390,
          2520,
          49,
          11,
          136,
          513,
          1500,
          7,
          5115,
          1260,
          210,
          7920,
          617,
          4510,
          9450,
          900,
          3,
          2880,
          805,
          1355,
          150,
          9630,
          2325,
          2040,
          294,
          448,
          1867,
          5,
          13650,
          2645,
          1440,
          8880,
          300,
          1,
          175,
          8472,
          3040,
          989,
          557,
          797,
          8873,
          3339,
          9600,
          59,
          868,
          78,
          0,
          6000,
          2843,
          455,
          0,
          15,
          313,
          1860,
          155,
          1200,
          5760,
          7200,
          1642,
          1080,
          181,
          6938,
          290,
          17520,
          4019,
          0,
          705,
          1230,
          0,
          210,
          4113,
          479,
          5760,
          90,
          4285,
          8430,
          128
         ]
        },
        {
         "mode": "markers",
         "name": "Predicted Values",
         "type": "scatter",
         "x": [
          0,
          1,
          2,
          3,
          4,
          5,
          6,
          7,
          8,
          9,
          10,
          11,
          12,
          13,
          14,
          15,
          16,
          17,
          18,
          19,
          20,
          21,
          22,
          23,
          24,
          25,
          26,
          27,
          28,
          29,
          30,
          31,
          32,
          33,
          34,
          35,
          36,
          37,
          38,
          39,
          40,
          41,
          42,
          43,
          44,
          45,
          46,
          47,
          48,
          49,
          50,
          51,
          52,
          53,
          54,
          55,
          56,
          57,
          58,
          59,
          60,
          61,
          62,
          63,
          64,
          65,
          66,
          67,
          68,
          69,
          70,
          71,
          72,
          73,
          74,
          75,
          76,
          77,
          78,
          79,
          80,
          81,
          82,
          83,
          84,
          85,
          86,
          87,
          88,
          89,
          90,
          91,
          92,
          93,
          94,
          95,
          96,
          97,
          98,
          99,
          100,
          101,
          102,
          103,
          104,
          105,
          106,
          107,
          108,
          109,
          110,
          111,
          112,
          113,
          114,
          115,
          116,
          117,
          118,
          119,
          120,
          121,
          122,
          123,
          124,
          125,
          126,
          127,
          128,
          129,
          130,
          131,
          132,
          133,
          134,
          135,
          136,
          137,
          138,
          139,
          140,
          141,
          142,
          143,
          144,
          145,
          146,
          147,
          148,
          149,
          150,
          151,
          152,
          153,
          154,
          155,
          156,
          157,
          158,
          159,
          160,
          161,
          162,
          163,
          164,
          165,
          166,
          167,
          168,
          169,
          170,
          171,
          172,
          173,
          174,
          175,
          176,
          177,
          178,
          179,
          180,
          181,
          182,
          183,
          184,
          185,
          186,
          187,
          188,
          189,
          190,
          191,
          192,
          193,
          194,
          195,
          196,
          197,
          198,
          199,
          200,
          201,
          202,
          203,
          204,
          205,
          206,
          207,
          208,
          209,
          210,
          211
         ],
         "y": [
          3896.287510733006,
          211.03645862037774,
          3791.5450828181115,
          187.5790952387997,
          3948.6587246904537,
          3870.1019037542824,
          4446.1852572862035,
          4393.814043328756,
          3712.98826188194,
          4393.814043328756,
          4053.401152605348,
          545.083599854222,
          3765.359475839388,
          4105.7723665627955,
          842.2192697068917,
          3529.689013030875,
          3739.173868860664,
          597.4548138116693,
          4131.957973541519,
          344.6927371111419,
          656.1917772586803,
          4184.329187498966,
          3712.98826188194,
          3765.359475839388,
          571.2692068329457,
          3817.730689796835,
          3791.5450828181115,
          3503.503406052151,
          3765.359475839388,
          4184.329187498966,
          4079.586759584072,
          1954.0137363688336,
          95.0843559776772,
          3896.287510733006,
          3896.287510733006,
          842.2192697068917,
          3686.8026549032165,
          737.4768417919972,
          239.95030919624742,
          3765.359475839388,
          3739.173868860664,
          4053.401152605348,
          3843.9162967755587,
          4236.700401456414,
          3765.359475839388,
          3529.689013030875,
          597.4548138116693,
          3634.4314409457693,
          330.7548187861903,
          3948.6587246904537,
          1796.9000944964914,
          3817.730689796835,
          3817.730689796835,
          3634.4314409457693,
          3896.287510733006,
          571.2692068329457,
          330.7548187861903,
          606.5488068983786,
          344.6927371111419,
          213.76470221752334,
          213.76470221752334,
          1.5516027905882765,
          623.6404207903929,
          3791.5450828181115,
          3791.5450828181115,
          3634.4314409457693,
          3948.6587246904537,
          3686.8026549032165,
          3870.1019037542824,
          4472.370864264927,
          3948.6587246904537,
          4105.7723665627955,
          361.7843510031562,
          3765.359475839388,
          109.02227430262883,
          3582.060226988322,
          3739.173868860664,
          3870.1019037542824,
          3634.4314409457693,
          3739.173868860664,
          580.363199919655,
          4053.401152605348,
          3948.6587246904537,
          239.95030919624742,
          3503.503406052151,
          3529.689013030875,
          3634.4314409457693,
          3503.503406052151,
          344.6927371111419,
          3948.6587246904537,
          4210.51479447769,
          3712.98826188194,
          82.8366673239052,
          501.80637898348414,
          3870.1019037542824,
          3817.730689796835,
          3922.4731177117296,
          3948.6587246904537,
          571.2692068329457,
          344.6927371111419,
          3608.2458339670457,
          3922.4731177117296,
          187.5790952387997,
          4446.1852572862035,
          3765.359475839388,
          4131.957973541519,
          3686.8026549032165,
          3739.173868860664,
          3712.98826188194,
          3791.5450828181115,
          3817.730689796835,
          3451.1321920947034,
          383.126032743638,
          3948.6587246904537,
          3843.9162967755587,
          4053.401152605348,
          603.820563301233,
          3503.503406052151,
          4105.7723665627955,
          518.897992875498,
          1561.2296316879783,
          4001.029938647901,
          4027.2155456266246,
          109.02227430262883,
          4053.401152605348,
          263.40767257782545,
          3948.6587246904537,
          525.2637423650622,
          1927.8281293901098,
          239.95030919624742,
          -21.905760590989757,
          472.8925284076149,
          4001.029938647901,
          4053.401152605348,
          3791.5450828181115,
          3948.6587246904537,
          4236.700401456414,
          3791.5450828181115,
          -50.81961116685898,
          3974.8443316691773,
          3765.359475839388,
          3660.617047924493,
          894.5904836643394,
          3686.8026549032165,
          3791.5450828181115,
          3948.6587246904537,
          4001.029938647901,
          3843.9162967755587,
          3739.173868860664,
          4184.329187498966,
          4027.2155456266246,
          263.40767257782545,
          213.76470221752334,
          3503.503406052151,
          3791.5450828181115,
          3843.9162967755587,
          4105.7723665627955,
          3817.730689796835,
          3634.4314409457693,
          4210.51479447769,
          3712.98826188194,
          3948.6587246904537,
          397.0639510685892,
          3529.689013030875,
          3712.98826188194,
          3896.287510733006,
          4236.700401456414,
          3765.359475839388,
          3712.98826188194,
          266.13591617497104,
          4105.7723665627955,
          4079.586759584072,
          4393.814043328756,
          187.5790952387997,
          603.820563301233,
          56.65106034518158,
          3791.5450828181115,
          4105.7723665627955,
          3739.173868860664,
          361.7843510031562,
          239.95030919624742,
          292.32152315369467,
          1718.3432735603205,
          82.8366673239052,
          3791.5450828181115,
          213.76470221752334,
          344.6927371111419,
          606.5488068983786,
          3817.730689796835,
          475.6207720047605,
          3896.287510733006,
          3817.730689796835,
          4210.51479447769,
          842.2192697068917,
          3791.5450828181115,
          3896.287510733006,
          3791.5450828181115,
          3817.730689796835,
          3843.9162967755587,
          4289.071615413861,
          239.95030919624742,
          3686.8026549032165,
          3739.173868860664,
          239.95030919624742,
          4027.2155456266246,
          3712.98826188194,
          3791.5450828181115,
          3791.5450828181115,
          3791.5450828181115,
          3896.287510733006,
          3791.5450828181115,
          239.95030919624742
         ]
        }
       ],
       "layout": {
        "template": {
         "data": {
          "bar": [
           {
            "error_x": {
             "color": "#2a3f5f"
            },
            "error_y": {
             "color": "#2a3f5f"
            },
            "marker": {
             "line": {
              "color": "#E5ECF6",
              "width": 0.5
             },
             "pattern": {
              "fillmode": "overlay",
              "size": 10,
              "solidity": 0.2
             }
            },
            "type": "bar"
           }
          ],
          "barpolar": [
           {
            "marker": {
             "line": {
              "color": "#E5ECF6",
              "width": 0.5
             },
             "pattern": {
              "fillmode": "overlay",
              "size": 10,
              "solidity": 0.2
             }
            },
            "type": "barpolar"
           }
          ],
          "carpet": [
           {
            "aaxis": {
             "endlinecolor": "#2a3f5f",
             "gridcolor": "white",
             "linecolor": "white",
             "minorgridcolor": "white",
             "startlinecolor": "#2a3f5f"
            },
            "baxis": {
             "endlinecolor": "#2a3f5f",
             "gridcolor": "white",
             "linecolor": "white",
             "minorgridcolor": "white",
             "startlinecolor": "#2a3f5f"
            },
            "type": "carpet"
           }
          ],
          "choropleth": [
           {
            "colorbar": {
             "outlinewidth": 0,
             "ticks": ""
            },
            "type": "choropleth"
           }
          ],
          "contour": [
           {
            "colorbar": {
             "outlinewidth": 0,
             "ticks": ""
            },
            "colorscale": [
             [
              0,
              "#0d0887"
             ],
             [
              0.1111111111111111,
              "#46039f"
             ],
             [
              0.2222222222222222,
              "#7201a8"
             ],
             [
              0.3333333333333333,
              "#9c179e"
             ],
             [
              0.4444444444444444,
              "#bd3786"
             ],
             [
              0.5555555555555556,
              "#d8576b"
             ],
             [
              0.6666666666666666,
              "#ed7953"
             ],
             [
              0.7777777777777778,
              "#fb9f3a"
             ],
             [
              0.8888888888888888,
              "#fdca26"
             ],
             [
              1,
              "#f0f921"
             ]
            ],
            "type": "contour"
           }
          ],
          "contourcarpet": [
           {
            "colorbar": {
             "outlinewidth": 0,
             "ticks": ""
            },
            "type": "contourcarpet"
           }
          ],
          "heatmap": [
           {
            "colorbar": {
             "outlinewidth": 0,
             "ticks": ""
            },
            "colorscale": [
             [
              0,
              "#0d0887"
             ],
             [
              0.1111111111111111,
              "#46039f"
             ],
             [
              0.2222222222222222,
              "#7201a8"
             ],
             [
              0.3333333333333333,
              "#9c179e"
             ],
             [
              0.4444444444444444,
              "#bd3786"
             ],
             [
              0.5555555555555556,
              "#d8576b"
             ],
             [
              0.6666666666666666,
              "#ed7953"
             ],
             [
              0.7777777777777778,
              "#fb9f3a"
             ],
             [
              0.8888888888888888,
              "#fdca26"
             ],
             [
              1,
              "#f0f921"
             ]
            ],
            "type": "heatmap"
           }
          ],
          "heatmapgl": [
           {
            "colorbar": {
             "outlinewidth": 0,
             "ticks": ""
            },
            "colorscale": [
             [
              0,
              "#0d0887"
             ],
             [
              0.1111111111111111,
              "#46039f"
             ],
             [
              0.2222222222222222,
              "#7201a8"
             ],
             [
              0.3333333333333333,
              "#9c179e"
             ],
             [
              0.4444444444444444,
              "#bd3786"
             ],
             [
              0.5555555555555556,
              "#d8576b"
             ],
             [
              0.6666666666666666,
              "#ed7953"
             ],
             [
              0.7777777777777778,
              "#fb9f3a"
             ],
             [
              0.8888888888888888,
              "#fdca26"
             ],
             [
              1,
              "#f0f921"
             ]
            ],
            "type": "heatmapgl"
           }
          ],
          "histogram": [
           {
            "marker": {
             "pattern": {
              "fillmode": "overlay",
              "size": 10,
              "solidity": 0.2
             }
            },
            "type": "histogram"
           }
          ],
          "histogram2d": [
           {
            "colorbar": {
             "outlinewidth": 0,
             "ticks": ""
            },
            "colorscale": [
             [
              0,
              "#0d0887"
             ],
             [
              0.1111111111111111,
              "#46039f"
             ],
             [
              0.2222222222222222,
              "#7201a8"
             ],
             [
              0.3333333333333333,
              "#9c179e"
             ],
             [
              0.4444444444444444,
              "#bd3786"
             ],
             [
              0.5555555555555556,
              "#d8576b"
             ],
             [
              0.6666666666666666,
              "#ed7953"
             ],
             [
              0.7777777777777778,
              "#fb9f3a"
             ],
             [
              0.8888888888888888,
              "#fdca26"
             ],
             [
              1,
              "#f0f921"
             ]
            ],
            "type": "histogram2d"
           }
          ],
          "histogram2dcontour": [
           {
            "colorbar": {
             "outlinewidth": 0,
             "ticks": ""
            },
            "colorscale": [
             [
              0,
              "#0d0887"
             ],
             [
              0.1111111111111111,
              "#46039f"
             ],
             [
              0.2222222222222222,
              "#7201a8"
             ],
             [
              0.3333333333333333,
              "#9c179e"
             ],
             [
              0.4444444444444444,
              "#bd3786"
             ],
             [
              0.5555555555555556,
              "#d8576b"
             ],
             [
              0.6666666666666666,
              "#ed7953"
             ],
             [
              0.7777777777777778,
              "#fb9f3a"
             ],
             [
              0.8888888888888888,
              "#fdca26"
             ],
             [
              1,
              "#f0f921"
             ]
            ],
            "type": "histogram2dcontour"
           }
          ],
          "mesh3d": [
           {
            "colorbar": {
             "outlinewidth": 0,
             "ticks": ""
            },
            "type": "mesh3d"
           }
          ],
          "parcoords": [
           {
            "line": {
             "colorbar": {
              "outlinewidth": 0,
              "ticks": ""
             }
            },
            "type": "parcoords"
           }
          ],
          "pie": [
           {
            "automargin": true,
            "type": "pie"
           }
          ],
          "scatter": [
           {
            "fillpattern": {
             "fillmode": "overlay",
             "size": 10,
             "solidity": 0.2
            },
            "type": "scatter"
           }
          ],
          "scatter3d": [
           {
            "line": {
             "colorbar": {
              "outlinewidth": 0,
              "ticks": ""
             }
            },
            "marker": {
             "colorbar": {
              "outlinewidth": 0,
              "ticks": ""
             }
            },
            "type": "scatter3d"
           }
          ],
          "scattercarpet": [
           {
            "marker": {
             "colorbar": {
              "outlinewidth": 0,
              "ticks": ""
             }
            },
            "type": "scattercarpet"
           }
          ],
          "scattergeo": [
           {
            "marker": {
             "colorbar": {
              "outlinewidth": 0,
              "ticks": ""
             }
            },
            "type": "scattergeo"
           }
          ],
          "scattergl": [
           {
            "marker": {
             "colorbar": {
              "outlinewidth": 0,
              "ticks": ""
             }
            },
            "type": "scattergl"
           }
          ],
          "scattermapbox": [
           {
            "marker": {
             "colorbar": {
              "outlinewidth": 0,
              "ticks": ""
             }
            },
            "type": "scattermapbox"
           }
          ],
          "scatterpolar": [
           {
            "marker": {
             "colorbar": {
              "outlinewidth": 0,
              "ticks": ""
             }
            },
            "type": "scatterpolar"
           }
          ],
          "scatterpolargl": [
           {
            "marker": {
             "colorbar": {
              "outlinewidth": 0,
              "ticks": ""
             }
            },
            "type": "scatterpolargl"
           }
          ],
          "scatterternary": [
           {
            "marker": {
             "colorbar": {
              "outlinewidth": 0,
              "ticks": ""
             }
            },
            "type": "scatterternary"
           }
          ],
          "surface": [
           {
            "colorbar": {
             "outlinewidth": 0,
             "ticks": ""
            },
            "colorscale": [
             [
              0,
              "#0d0887"
             ],
             [
              0.1111111111111111,
              "#46039f"
             ],
             [
              0.2222222222222222,
              "#7201a8"
             ],
             [
              0.3333333333333333,
              "#9c179e"
             ],
             [
              0.4444444444444444,
              "#bd3786"
             ],
             [
              0.5555555555555556,
              "#d8576b"
             ],
             [
              0.6666666666666666,
              "#ed7953"
             ],
             [
              0.7777777777777778,
              "#fb9f3a"
             ],
             [
              0.8888888888888888,
              "#fdca26"
             ],
             [
              1,
              "#f0f921"
             ]
            ],
            "type": "surface"
           }
          ],
          "table": [
           {
            "cells": {
             "fill": {
              "color": "#EBF0F8"
             },
             "line": {
              "color": "white"
             }
            },
            "header": {
             "fill": {
              "color": "#C8D4E3"
             },
             "line": {
              "color": "white"
             }
            },
            "type": "table"
           }
          ]
         },
         "layout": {
          "annotationdefaults": {
           "arrowcolor": "#2a3f5f",
           "arrowhead": 0,
           "arrowwidth": 1
          },
          "autotypenumbers": "strict",
          "coloraxis": {
           "colorbar": {
            "outlinewidth": 0,
            "ticks": ""
           }
          },
          "colorscale": {
           "diverging": [
            [
             0,
             "#8e0152"
            ],
            [
             0.1,
             "#c51b7d"
            ],
            [
             0.2,
             "#de77ae"
            ],
            [
             0.3,
             "#f1b6da"
            ],
            [
             0.4,
             "#fde0ef"
            ],
            [
             0.5,
             "#f7f7f7"
            ],
            [
             0.6,
             "#e6f5d0"
            ],
            [
             0.7,
             "#b8e186"
            ],
            [
             0.8,
             "#7fbc41"
            ],
            [
             0.9,
             "#4d9221"
            ],
            [
             1,
             "#276419"
            ]
           ],
           "sequential": [
            [
             0,
             "#0d0887"
            ],
            [
             0.1111111111111111,
             "#46039f"
            ],
            [
             0.2222222222222222,
             "#7201a8"
            ],
            [
             0.3333333333333333,
             "#9c179e"
            ],
            [
             0.4444444444444444,
             "#bd3786"
            ],
            [
             0.5555555555555556,
             "#d8576b"
            ],
            [
             0.6666666666666666,
             "#ed7953"
            ],
            [
             0.7777777777777778,
             "#fb9f3a"
            ],
            [
             0.8888888888888888,
             "#fdca26"
            ],
            [
             1,
             "#f0f921"
            ]
           ],
           "sequentialminus": [
            [
             0,
             "#0d0887"
            ],
            [
             0.1111111111111111,
             "#46039f"
            ],
            [
             0.2222222222222222,
             "#7201a8"
            ],
            [
             0.3333333333333333,
             "#9c179e"
            ],
            [
             0.4444444444444444,
             "#bd3786"
            ],
            [
             0.5555555555555556,
             "#d8576b"
            ],
            [
             0.6666666666666666,
             "#ed7953"
            ],
            [
             0.7777777777777778,
             "#fb9f3a"
            ],
            [
             0.8888888888888888,
             "#fdca26"
            ],
            [
             1,
             "#f0f921"
            ]
           ]
          },
          "colorway": [
           "#636efa",
           "#EF553B",
           "#00cc96",
           "#ab63fa",
           "#FFA15A",
           "#19d3f3",
           "#FF6692",
           "#B6E880",
           "#FF97FF",
           "#FECB52"
          ],
          "font": {
           "color": "#2a3f5f"
          },
          "geo": {
           "bgcolor": "white",
           "lakecolor": "white",
           "landcolor": "#E5ECF6",
           "showlakes": true,
           "showland": true,
           "subunitcolor": "white"
          },
          "hoverlabel": {
           "align": "left"
          },
          "hovermode": "closest",
          "mapbox": {
           "style": "light"
          },
          "paper_bgcolor": "white",
          "plot_bgcolor": "#E5ECF6",
          "polar": {
           "angularaxis": {
            "gridcolor": "white",
            "linecolor": "white",
            "ticks": ""
           },
           "bgcolor": "#E5ECF6",
           "radialaxis": {
            "gridcolor": "white",
            "linecolor": "white",
            "ticks": ""
           }
          },
          "scene": {
           "xaxis": {
            "backgroundcolor": "#E5ECF6",
            "gridcolor": "white",
            "gridwidth": 2,
            "linecolor": "white",
            "showbackground": true,
            "ticks": "",
            "zerolinecolor": "white"
           },
           "yaxis": {
            "backgroundcolor": "#E5ECF6",
            "gridcolor": "white",
            "gridwidth": 2,
            "linecolor": "white",
            "showbackground": true,
            "ticks": "",
            "zerolinecolor": "white"
           },
           "zaxis": {
            "backgroundcolor": "#E5ECF6",
            "gridcolor": "white",
            "gridwidth": 2,
            "linecolor": "white",
            "showbackground": true,
            "ticks": "",
            "zerolinecolor": "white"
           }
          },
          "shapedefaults": {
           "line": {
            "color": "#2a3f5f"
           }
          },
          "ternary": {
           "aaxis": {
            "gridcolor": "white",
            "linecolor": "white",
            "ticks": ""
           },
           "baxis": {
            "gridcolor": "white",
            "linecolor": "white",
            "ticks": ""
           },
           "bgcolor": "#E5ECF6",
           "caxis": {
            "gridcolor": "white",
            "linecolor": "white",
            "ticks": ""
           }
          },
          "title": {
           "x": 0.05
          },
          "xaxis": {
           "automargin": true,
           "gridcolor": "white",
           "linecolor": "white",
           "ticks": "",
           "title": {
            "standoff": 15
           },
           "zerolinecolor": "white",
           "zerolinewidth": 2
          },
          "yaxis": {
           "automargin": true,
           "gridcolor": "white",
           "linecolor": "white",
           "ticks": "",
           "title": {
            "standoff": 15
           },
           "zerolinecolor": "white",
           "zerolinewidth": 2
          }
         }
        },
        "title": {
         "text": "Actual vs Predicted Values"
        },
        "xaxis": {
         "title": {
          "text": "Index"
         }
        },
        "yaxis": {
         "title": {
          "text": "Outage Duration"
         }
        }
       }
      }
     },
     "metadata": {},
     "output_type": "display_data"
    }
   ],
   "source": [
    "#################################\n",
    "#     PLOT BASELINE MODEL       #\n",
    "#################################\n",
    "\n",
    "trace0 = go.Scatter(\n",
    "    x=np.arange(len(y_test)),\n",
    "    y=y_test,\n",
    "    mode='markers',\n",
    "    name='Actual Values'\n",
    ")\n",
    "trace1 = go.Scatter(\n",
    "    x=np.arange(len(y_pred)),\n",
    "    y=y_pred,\n",
    "    mode='markers',\n",
    "    name='Predicted Values'\n",
    ")\n",
    "\n",
    "# Create layout\n",
    "layout = go.Layout(\n",
    "    title='Actual vs Predicted Values',\n",
    "    xaxis=dict(title='Index'),\n",
    "    yaxis=dict(title='Outage Duration')\n",
    ")\n",
    "\n",
    "# Create figure and add traces\n",
    "fig = go.Figure(data=[trace0, trace1], layout=layout)\n",
    "\n",
    "# Show plot\n",
    "fig.show()"
   ]
  },
  {
   "cell_type": "markdown",
   "metadata": {},
   "source": [
    "### Final Model"
   ]
  },
  {
   "cell_type": "code",
   "execution_count": 98,
   "metadata": {
    "ExecuteTime": {
     "end_time": "2019-10-31T23:36:28.662099Z",
     "start_time": "2019-10-31T23:36:28.660016Z"
    }
   },
   "outputs": [
    {
     "name": "stdout",
     "output_type": "stream",
     "text": [
      "Best parameters: {'model__max_depth': 20, 'model__min_samples_leaf': 2, 'model__min_samples_split': 10, 'model__n_estimators': 100}\n",
      "Best score (CV): 2118.2467898850437\n",
      "Test Mean Absolute Error: 1986.9464234368163\n"
     ]
    }
   ],
   "source": [
    "########################################\n",
    "#              FINAL MODEL             #\n",
    "# We have chosen to employ 10 features #\n",
    "# for our model, 4 of which are numeric#\n",
    "# and the other 6 of which are         #\n",
    "# categorical.                         #\n",
    "########################################\n",
    "\n",
    "features = ['NERC.REGION', 'CLIMATE.REGION', 'ANOMALY.LEVEL', 'CLIMATE.CATEGORY', 'CAUSE.CATEGORY',\n",
    "            'CUSTOMERS.AFFECTED', 'POPULATION', 'U.S._STATE', 'CAUSE.CATEGORY.DETAIL',\n",
    "            'PI.UTIL.OFUSA']\n",
    "target = 'OUTAGE.DURATION'\n",
    "\n",
    "X = df[features]\n",
    "y = df[target]\n",
    "\n",
    "# Split the data\n",
    "X_train, X_test, y_train, y_test = train_test_split(X, y, test_size=0.2)\n",
    "\n",
    "# Preprocessing\n",
    "numeric_features = ['ANOMALY.LEVEL', 'PI.UTIL.OFUSA', 'CUSTOMERS.AFFECTED', 'POPULATION']\n",
    "numeric_transformer = Pipeline(steps=[\n",
    "    ('imputer', SimpleImputer(strategy='mean')),\n",
    "    ('scaler', StandardScaler()),\n",
    "    ('quantile', QuantileTransformer(n_quantiles=min(675, len(X_train)), output_distribution='uniform'))\n",
    "])\n",
    "\n",
    "categorical_features = ['NERC.REGION', 'CLIMATE.REGION', 'CLIMATE.CATEGORY', 'CAUSE.CATEGORY', 'U.S._STATE', 'CAUSE.CATEGORY.DETAIL']\n",
    "categorical_transformer = Pipeline(steps=[\n",
    "    ('imputer', SimpleImputer(strategy='constant', fill_value='missing')),\n",
    "    ('onehot', OneHotEncoder(handle_unknown='ignore'))\n",
    "])\n",
    "\n",
    "preprocessor = ColumnTransformer(\n",
    "    transformers=[\n",
    "        ('num', numeric_transformer, numeric_features),\n",
    "        ('cat', categorical_transformer, categorical_features)\n",
    "    ])\n",
    "\n",
    "# We are choosing Random Forest Regressor for its ability to determine complex patterns and complexity\n",
    "model = RandomForestRegressor()\n",
    "\n",
    "# Pipeline\n",
    "pipeline = Pipeline(steps=[('preprocessor', preprocessor),\n",
    "                           ('model', model)])\n",
    "\n",
    "# Hyperparameter Tuning for RandomForestRegressor\n",
    "param_grid = {\n",
    "    'model__n_estimators': [100, 200, 300],\n",
    "    'model__max_depth': [None, 10, 20, 30],\n",
    "    'model__min_samples_split': [2, 5, 10],\n",
    "    'model__min_samples_leaf': [1, 2, 4]\n",
    "    # Add other RandomForestRegressor specific parameters if needed\n",
    "}\n",
    "grid_search = GridSearchCV(pipeline, param_grid, cv=5, scoring='neg_mean_absolute_error')\n",
    "\n",
    "# Fit the model\n",
    "grid_search.fit(X_train, y_train)\n",
    "\n",
    "# Predict using the model\n",
    "y_pred = grid_search.predict(X_test)\n",
    "\n",
    "# Evaluate the model\n",
    "mae = mean_absolute_error(y_test, y_pred)\n",
    "print(\"Best parameters:\", grid_search.best_params_)\n",
    "print(\"Best score (CV):\", -grid_search.best_score_)\n",
    "print(\"Test Mean Absolute Error:\", mae)"
   ]
  },
  {
   "cell_type": "code",
   "execution_count": 99,
   "metadata": {},
   "outputs": [
    {
     "data": {
      "application/vnd.plotly.v1+json": {
       "config": {
        "plotlyServerURL": "https://plot.ly"
       },
       "data": [
        {
         "mode": "markers",
         "name": "Actual Values",
         "type": "scatter",
         "x": [
          0,
          1,
          2,
          3,
          4,
          5,
          6,
          7,
          8,
          9,
          10,
          11,
          12,
          13,
          14,
          15,
          16,
          17,
          18,
          19,
          20,
          21,
          22,
          23,
          24,
          25,
          26,
          27,
          28,
          29,
          30,
          31,
          32,
          33,
          34,
          35,
          36,
          37,
          38,
          39,
          40,
          41,
          42,
          43,
          44,
          45,
          46,
          47,
          48,
          49,
          50,
          51,
          52,
          53,
          54,
          55,
          56,
          57,
          58,
          59,
          60,
          61,
          62,
          63,
          64,
          65,
          66,
          67,
          68,
          69,
          70,
          71,
          72,
          73,
          74,
          75,
          76,
          77,
          78,
          79,
          80,
          81,
          82,
          83,
          84,
          85,
          86,
          87,
          88,
          89,
          90,
          91,
          92,
          93,
          94,
          95,
          96,
          97,
          98,
          99,
          100,
          101,
          102,
          103,
          104,
          105,
          106,
          107,
          108,
          109,
          110,
          111,
          112,
          113,
          114,
          115,
          116,
          117,
          118,
          119,
          120,
          121,
          122,
          123,
          124,
          125,
          126,
          127,
          128,
          129,
          130,
          131,
          132,
          133,
          134,
          135,
          136,
          137,
          138,
          139,
          140,
          141,
          142,
          143,
          144,
          145,
          146,
          147,
          148,
          149,
          150,
          151,
          152,
          153,
          154,
          155,
          156,
          157,
          158,
          159,
          160,
          161,
          162,
          163,
          164,
          165,
          166,
          167,
          168,
          169,
          170,
          171,
          172,
          173,
          174,
          175,
          176,
          177,
          178,
          179,
          180,
          181,
          182,
          183,
          184,
          185,
          186,
          187,
          188,
          189,
          190,
          191,
          192,
          193,
          194,
          195,
          196,
          197,
          198,
          199,
          200,
          201,
          202,
          203,
          204,
          205,
          206,
          207,
          208,
          209,
          210,
          211,
          212,
          213,
          214,
          215,
          216,
          217,
          218,
          219,
          220,
          221,
          222,
          223,
          224,
          225,
          226,
          227,
          228,
          229,
          230,
          231,
          232,
          233,
          234,
          235,
          236,
          237,
          238,
          239,
          240,
          241,
          242,
          243,
          244,
          245,
          246,
          247,
          248,
          249,
          250,
          251,
          252,
          253,
          254,
          255,
          256,
          257,
          258,
          259,
          260,
          261,
          262,
          263,
          264,
          265,
          266,
          267,
          268,
          269,
          270,
          271,
          272,
          273,
          274,
          275,
          276,
          277,
          278,
          279,
          280,
          281,
          282,
          283,
          284,
          285,
          286,
          287,
          288,
          289,
          290,
          291,
          292,
          293,
          294,
          295
         ],
         "y": [
          1282,
          1920,
          7080,
          1336,
          42,
          3,
          4259,
          11880,
          554,
          4320,
          4440,
          2010,
          4410,
          17339,
          840,
          3720,
          3600,
          206,
          0,
          8472,
          1,
          220,
          1,
          1548,
          219,
          1,
          2054,
          120,
          2806,
          881,
          120,
          215,
          720,
          10,
          3637,
          1,
          9855,
          0,
          450,
          4170,
          2,
          410,
          186,
          125,
          870,
          540,
          570,
          1320,
          1695,
          49320,
          1,
          6074,
          394,
          0,
          180,
          6492,
          2880,
          57,
          2880,
          1,
          4290,
          1008,
          720,
          3186,
          152,
          164,
          1019,
          15180,
          762,
          2891,
          2280,
          1,
          2100,
          4680,
          3600,
          150,
          60480,
          3604,
          2420,
          1440,
          394,
          1110,
          249,
          1,
          300,
          810,
          400,
          155,
          131,
          2670,
          0,
          230,
          1099,
          0,
          93,
          1195,
          431,
          6420,
          210,
          5040,
          251,
          0,
          2040,
          6480,
          1260,
          15180,
          14400,
          4285,
          2550,
          9230,
          95,
          0,
          300,
          121,
          252,
          39,
          30,
          663,
          420,
          8880,
          2895,
          2120,
          15,
          543,
          2880,
          234,
          1530,
          98,
          3,
          1,
          49427,
          0,
          240,
          479,
          0,
          10,
          11,
          6070,
          196,
          60,
          1200,
          2820,
          3300,
          5,
          331,
          816,
          8640,
          2790,
          340,
          13381,
          1,
          840,
          30,
          959,
          810,
          12,
          30,
          2085,
          437,
          1,
          52,
          185,
          245,
          457,
          3020,
          59,
          130,
          485,
          300,
          1,
          199,
          5790,
          1,
          201,
          1,
          1697,
          0,
          14040,
          372,
          1,
          104,
          2050,
          108,
          10726,
          44,
          697,
          1,
          2855,
          1,
          180,
          14101,
          3938,
          705,
          5,
          1950,
          271,
          3569,
          4920,
          1080,
          2,
          455,
          46,
          1440,
          7320,
          1440,
          96,
          1,
          1423,
          348,
          214,
          90,
          2880,
          3584,
          333,
          507,
          3137,
          114,
          4470,
          430,
          909,
          2490,
          0,
          480,
          3060,
          4800,
          871,
          5855,
          617,
          2160,
          380,
          6780,
          1240,
          150,
          91,
          1460,
          255,
          1440,
          12240,
          32,
          4125,
          1676,
          18804,
          4320,
          1920,
          180,
          11058,
          6,
          1,
          1200,
          6090,
          0,
          269,
          1324,
          816,
          355,
          855,
          4032,
          2880,
          6300,
          52,
          245,
          168,
          600,
          3915,
          1,
          0,
          0,
          6276,
          73,
          0,
          620,
          3480,
          3600,
          5,
          1320,
          1999,
          0,
          60,
          310,
          90,
          4139,
          717,
          1140,
          0,
          8922,
          1440,
          420,
          1183,
          270,
          1355,
          1890,
          2700,
          255,
          2640,
          557,
          557
         ]
        },
        {
         "mode": "markers",
         "name": "Predicted Values",
         "type": "scatter",
         "x": [
          0,
          1,
          2,
          3,
          4,
          5,
          6,
          7,
          8,
          9,
          10,
          11,
          12,
          13,
          14,
          15,
          16,
          17,
          18,
          19,
          20,
          21,
          22,
          23,
          24,
          25,
          26,
          27,
          28,
          29,
          30,
          31,
          32,
          33,
          34,
          35,
          36,
          37,
          38,
          39,
          40,
          41,
          42,
          43,
          44,
          45,
          46,
          47,
          48,
          49,
          50,
          51,
          52,
          53,
          54,
          55,
          56,
          57,
          58,
          59,
          60,
          61,
          62,
          63,
          64,
          65,
          66,
          67,
          68,
          69,
          70,
          71,
          72,
          73,
          74,
          75,
          76,
          77,
          78,
          79,
          80,
          81,
          82,
          83,
          84,
          85,
          86,
          87,
          88,
          89,
          90,
          91,
          92,
          93,
          94,
          95,
          96,
          97,
          98,
          99,
          100,
          101,
          102,
          103,
          104,
          105,
          106,
          107,
          108,
          109,
          110,
          111,
          112,
          113,
          114,
          115,
          116,
          117,
          118,
          119,
          120,
          121,
          122,
          123,
          124,
          125,
          126,
          127,
          128,
          129,
          130,
          131,
          132,
          133,
          134,
          135,
          136,
          137,
          138,
          139,
          140,
          141,
          142,
          143,
          144,
          145,
          146,
          147,
          148,
          149,
          150,
          151,
          152,
          153,
          154,
          155,
          156,
          157,
          158,
          159,
          160,
          161,
          162,
          163,
          164,
          165,
          166,
          167,
          168,
          169,
          170,
          171,
          172,
          173,
          174,
          175,
          176,
          177,
          178,
          179,
          180,
          181,
          182,
          183,
          184,
          185,
          186,
          187,
          188,
          189,
          190,
          191,
          192,
          193,
          194,
          195,
          196,
          197,
          198,
          199,
          200,
          201,
          202,
          203,
          204,
          205,
          206,
          207,
          208,
          209,
          210,
          211,
          212,
          213,
          214,
          215,
          216,
          217,
          218,
          219,
          220,
          221,
          222,
          223,
          224,
          225,
          226,
          227,
          228,
          229,
          230,
          231,
          232,
          233,
          234,
          235,
          236,
          237,
          238,
          239,
          240,
          241,
          242,
          243,
          244,
          245,
          246,
          247,
          248,
          249,
          250,
          251,
          252,
          253,
          254,
          255,
          256,
          257,
          258,
          259,
          260,
          261,
          262,
          263,
          264,
          265,
          266,
          267,
          268,
          269,
          270,
          271,
          272,
          273,
          274,
          275,
          276,
          277,
          278,
          279,
          280,
          281,
          282,
          283,
          284,
          285,
          286,
          287,
          288,
          289,
          290,
          291,
          292,
          293,
          294,
          295
         ],
         "y": [
          438.2122476140464,
          6463.132686307973,
          5184.403639256169,
          1798.8216993404765,
          609.2293072826283,
          434.4444361180138,
          3993.9969607700555,
          11749.628068615208,
          815.5584866911952,
          2667.848705897629,
          3884.764030731474,
          1917.505135559986,
          2073.2173319536273,
          8029.295128690753,
          211.2102931359988,
          3986.4918668334135,
          13714.671314446132,
          281.0139798299435,
          152.49740166906327,
          5929.902523046487,
          164.17747063239347,
          154.71778336988086,
          1668.584127244385,
          2144.093972489928,
          406.25597358292544,
          14.892181874845376,
          2113.795852696566,
          2535.268563532909,
          4101.051535478713,
          171.8850106962779,
          1573.860280048726,
          1319.7892604372134,
          9086.124508447001,
          901.5383877628608,
          4587.224250425047,
          134.42661452630722,
          1944.6296925117226,
          215.07814979116995,
          1726.2346790574309,
          4633.658998036841,
          242.18601564011328,
          680.3094766046593,
          417.40021172523024,
          259.89949293939685,
          97.96856675303908,
          5623.479513305377,
          1532.1220658462087,
          1813.3296933244962,
          1798.3989933825208,
          14269.297403816243,
          206.82221397587426,
          3776.3893839225084,
          392.80056656379895,
          629.8415882286392,
          1518.7904896984282,
          3661.7893483402136,
          6805.658273325313,
          116.76979014985281,
          4259.84160609417,
          541.1082334435662,
          3619.398590979223,
          721.3599856488731,
          2154.9745360519064,
          218.6890026215021,
          149.41958090815768,
          1391.4569856274302,
          4565.8326413609875,
          13103.90248504273,
          164.1146685625324,
          10961.4460626542,
          1408.422220757545,
          677.2522475209979,
          4537.66806317002,
          2122.5410783756415,
          5500.783816475191,
          2706.7283112791606,
          35537.597300631554,
          1501.8264304156876,
          2137.544706183616,
          48.14355470091296,
          1930.4129671660035,
          1766.9747714392681,
          580.9472539908096,
          141.4232551412712,
          786.8611796610251,
          3666.3070085193617,
          170.82633992992334,
          832.3851633549649,
          1020.3567370774035,
          4132.153896663627,
          1660.7782218062584,
          398.2614142881114,
          5670.097744007796,
          211.40481412919496,
          68.5408972840809,
          608.1162746674121,
          1813.1871067665995,
          4972.957915075208,
          2289.790555084812,
          5012.173399912412,
          1386.6162465525256,
          43.034088432340184,
          8008.848298995941,
          5891.906148840435,
          1254.0006632861187,
          5191.842467849947,
          12962.679147779465,
          4896.18181793504,
          1803.2268132386257,
          885.2332910725694,
          206.43413762065651,
          381.63239992857893,
          9500.295200965702,
          313.1881614814493,
          2639.3320203245344,
          4.198305002832764,
          2444.27604477104,
          149.93196739801445,
          2105.638882891016,
          4219.881784736232,
          2304.2534363057125,
          13098.558177017074,
          53.191099088003504,
          1602.7817224651305,
          3166.87364248037,
          498.8468614470894,
          2631.3992357729853,
          191.7406912288965,
          2066.2448167324314,
          188.24850276648198,
          2524.6966736506524,
          483.3227827300385,
          8184.19019306429,
          2075.3169563285433,
          645.4596345066954,
          2455.1440580600074,
          208.27521804839878,
          1917.9067189110774,
          2677.4871108743155,
          289.4721333736215,
          4235.529281979546,
          2758.28463809692,
          5884.398807165055,
          260.9001999591048,
          133.04331019344625,
          453.87726790464717,
          3722.268722268373,
          2423.653711667161,
          521.9997816318514,
          2808.298400460942,
          206.82221397587426,
          1391.364995960561,
          2218.413978845501,
          679.8739009324203,
          2546.866827855667,
          443.3951953876001,
          27.312649964243924,
          5250.135702690645,
          1175.998811076396,
          165.91857751679018,
          592.9652081644382,
          3057.292156237646,
          745.9314410614062,
          125.54984733766513,
          2994.260845518131,
          121.3229147825085,
          2261.208449537639,
          3356.5627959826925,
          1551.2714681739774,
          2505.0615604744366,
          721.3599856488731,
          4917.869928691529,
          1786.7083104681826,
          317.47627618481937,
          774.2592147843317,
          1060.528472536667,
          268.6663427270803,
          6056.517538249369,
          537.3638204894639,
          40.316804205215384,
          9373.888550167658,
          1108.7395054664335,
          657.6480719768566,
          5348.767821273295,
          33.713518459013294,
          2063.525851843396,
          47.35229406377934,
          2724.2448986192016,
          134.64726429429925,
          1518.7904896984282,
          10731.598317828368,
          4081.0707556191956,
          5807.457265485614,
          255.29921442970718,
          1900.4207009481997,
          813.807581612486,
          2176.4420628389066,
          3356.983885655859,
          1941.6374522735932,
          36.600522320695035,
          1774.1046168327316,
          173.93748189411414,
          284.2036789472014,
          6657.116060222459,
          1083.288353609917,
          1830.1380448088362,
          482.02868328671735,
          745.9314410614062,
          1421.1538333062615,
          713.8013739595488,
          1597.6053571260622,
          6769.713890179949,
          3687.7298587036203,
          3945.575780871983,
          41.503283468513175,
          1117.7094144899984,
          152.49740166906327,
          4069.721960478263,
          1161.9618634739445,
          335.9758042845624,
          2462.3526342065147,
          6.654365417624327,
          1884.5161429901796,
          2136.8321727572893,
          6245.977400892642,
          543.0941423369969,
          2848.329255779933,
          8074.614343959148,
          7972.359168803418,
          1167.7806375522723,
          7726.649888414691,
          239.82705275047852,
          980.5012657165954,
          232.28850006860034,
          1487.856693050982,
          2345.6251503494345,
          7422.17268839004,
          11150.777785178056,
          103.67885272346327,
          1174.4066700995663,
          12822.24731217883,
          4992.742384949353,
          2667.848705897629,
          980.5012657165954,
          1083.288353609917,
          6794.302312558986,
          2304.1259105806757,
          2.6085541368686616,
          2240.7790368429746,
          7424.452960119213,
          296.39248883391446,
          434.27191208970015,
          2587.445708649936,
          550.4023324955268,
          392.80056656379895,
          1980.6012370714502,
          2781.3591464758447,
          146.54575468874657,
          4451.67336236476,
          259.3627427937114,
          776.9639058125533,
          1531.5150496829665,
          3558.4159418278286,
          3942.3063035517016,
          5584.26408616828,
          1784.241236671487,
          110.64278863584241,
          4417.582794803212,
          44.677877136189245,
          381.63239992857893,
          760.2304269750719,
          3600.038446485059,
          12647.976914828636,
          1082.8754303763226,
          2286.1969485215623,
          1794.3242182252998,
          381.63239992857893,
          278.8722534884213,
          189.58581309661727,
          4866.330704720008,
          4931.003607319859,
          126.24730275476368,
          3352.8908144516195,
          211.40481412919496,
          5021.015795109088,
          8655.3218636595,
          2187.393986024762,
          257.17466763913836,
          1384.3510562995407,
          3304.642792074239,
          1857.225813742514,
          2616.76436331736,
          174.67350302805127,
          2584.1477195809434,
          1155.5377505313315,
          569.4428383276365
         ]
        }
       ],
       "layout": {
        "template": {
         "data": {
          "bar": [
           {
            "error_x": {
             "color": "#2a3f5f"
            },
            "error_y": {
             "color": "#2a3f5f"
            },
            "marker": {
             "line": {
              "color": "#E5ECF6",
              "width": 0.5
             },
             "pattern": {
              "fillmode": "overlay",
              "size": 10,
              "solidity": 0.2
             }
            },
            "type": "bar"
           }
          ],
          "barpolar": [
           {
            "marker": {
             "line": {
              "color": "#E5ECF6",
              "width": 0.5
             },
             "pattern": {
              "fillmode": "overlay",
              "size": 10,
              "solidity": 0.2
             }
            },
            "type": "barpolar"
           }
          ],
          "carpet": [
           {
            "aaxis": {
             "endlinecolor": "#2a3f5f",
             "gridcolor": "white",
             "linecolor": "white",
             "minorgridcolor": "white",
             "startlinecolor": "#2a3f5f"
            },
            "baxis": {
             "endlinecolor": "#2a3f5f",
             "gridcolor": "white",
             "linecolor": "white",
             "minorgridcolor": "white",
             "startlinecolor": "#2a3f5f"
            },
            "type": "carpet"
           }
          ],
          "choropleth": [
           {
            "colorbar": {
             "outlinewidth": 0,
             "ticks": ""
            },
            "type": "choropleth"
           }
          ],
          "contour": [
           {
            "colorbar": {
             "outlinewidth": 0,
             "ticks": ""
            },
            "colorscale": [
             [
              0,
              "#0d0887"
             ],
             [
              0.1111111111111111,
              "#46039f"
             ],
             [
              0.2222222222222222,
              "#7201a8"
             ],
             [
              0.3333333333333333,
              "#9c179e"
             ],
             [
              0.4444444444444444,
              "#bd3786"
             ],
             [
              0.5555555555555556,
              "#d8576b"
             ],
             [
              0.6666666666666666,
              "#ed7953"
             ],
             [
              0.7777777777777778,
              "#fb9f3a"
             ],
             [
              0.8888888888888888,
              "#fdca26"
             ],
             [
              1,
              "#f0f921"
             ]
            ],
            "type": "contour"
           }
          ],
          "contourcarpet": [
           {
            "colorbar": {
             "outlinewidth": 0,
             "ticks": ""
            },
            "type": "contourcarpet"
           }
          ],
          "heatmap": [
           {
            "colorbar": {
             "outlinewidth": 0,
             "ticks": ""
            },
            "colorscale": [
             [
              0,
              "#0d0887"
             ],
             [
              0.1111111111111111,
              "#46039f"
             ],
             [
              0.2222222222222222,
              "#7201a8"
             ],
             [
              0.3333333333333333,
              "#9c179e"
             ],
             [
              0.4444444444444444,
              "#bd3786"
             ],
             [
              0.5555555555555556,
              "#d8576b"
             ],
             [
              0.6666666666666666,
              "#ed7953"
             ],
             [
              0.7777777777777778,
              "#fb9f3a"
             ],
             [
              0.8888888888888888,
              "#fdca26"
             ],
             [
              1,
              "#f0f921"
             ]
            ],
            "type": "heatmap"
           }
          ],
          "heatmapgl": [
           {
            "colorbar": {
             "outlinewidth": 0,
             "ticks": ""
            },
            "colorscale": [
             [
              0,
              "#0d0887"
             ],
             [
              0.1111111111111111,
              "#46039f"
             ],
             [
              0.2222222222222222,
              "#7201a8"
             ],
             [
              0.3333333333333333,
              "#9c179e"
             ],
             [
              0.4444444444444444,
              "#bd3786"
             ],
             [
              0.5555555555555556,
              "#d8576b"
             ],
             [
              0.6666666666666666,
              "#ed7953"
             ],
             [
              0.7777777777777778,
              "#fb9f3a"
             ],
             [
              0.8888888888888888,
              "#fdca26"
             ],
             [
              1,
              "#f0f921"
             ]
            ],
            "type": "heatmapgl"
           }
          ],
          "histogram": [
           {
            "marker": {
             "pattern": {
              "fillmode": "overlay",
              "size": 10,
              "solidity": 0.2
             }
            },
            "type": "histogram"
           }
          ],
          "histogram2d": [
           {
            "colorbar": {
             "outlinewidth": 0,
             "ticks": ""
            },
            "colorscale": [
             [
              0,
              "#0d0887"
             ],
             [
              0.1111111111111111,
              "#46039f"
             ],
             [
              0.2222222222222222,
              "#7201a8"
             ],
             [
              0.3333333333333333,
              "#9c179e"
             ],
             [
              0.4444444444444444,
              "#bd3786"
             ],
             [
              0.5555555555555556,
              "#d8576b"
             ],
             [
              0.6666666666666666,
              "#ed7953"
             ],
             [
              0.7777777777777778,
              "#fb9f3a"
             ],
             [
              0.8888888888888888,
              "#fdca26"
             ],
             [
              1,
              "#f0f921"
             ]
            ],
            "type": "histogram2d"
           }
          ],
          "histogram2dcontour": [
           {
            "colorbar": {
             "outlinewidth": 0,
             "ticks": ""
            },
            "colorscale": [
             [
              0,
              "#0d0887"
             ],
             [
              0.1111111111111111,
              "#46039f"
             ],
             [
              0.2222222222222222,
              "#7201a8"
             ],
             [
              0.3333333333333333,
              "#9c179e"
             ],
             [
              0.4444444444444444,
              "#bd3786"
             ],
             [
              0.5555555555555556,
              "#d8576b"
             ],
             [
              0.6666666666666666,
              "#ed7953"
             ],
             [
              0.7777777777777778,
              "#fb9f3a"
             ],
             [
              0.8888888888888888,
              "#fdca26"
             ],
             [
              1,
              "#f0f921"
             ]
            ],
            "type": "histogram2dcontour"
           }
          ],
          "mesh3d": [
           {
            "colorbar": {
             "outlinewidth": 0,
             "ticks": ""
            },
            "type": "mesh3d"
           }
          ],
          "parcoords": [
           {
            "line": {
             "colorbar": {
              "outlinewidth": 0,
              "ticks": ""
             }
            },
            "type": "parcoords"
           }
          ],
          "pie": [
           {
            "automargin": true,
            "type": "pie"
           }
          ],
          "scatter": [
           {
            "fillpattern": {
             "fillmode": "overlay",
             "size": 10,
             "solidity": 0.2
            },
            "type": "scatter"
           }
          ],
          "scatter3d": [
           {
            "line": {
             "colorbar": {
              "outlinewidth": 0,
              "ticks": ""
             }
            },
            "marker": {
             "colorbar": {
              "outlinewidth": 0,
              "ticks": ""
             }
            },
            "type": "scatter3d"
           }
          ],
          "scattercarpet": [
           {
            "marker": {
             "colorbar": {
              "outlinewidth": 0,
              "ticks": ""
             }
            },
            "type": "scattercarpet"
           }
          ],
          "scattergeo": [
           {
            "marker": {
             "colorbar": {
              "outlinewidth": 0,
              "ticks": ""
             }
            },
            "type": "scattergeo"
           }
          ],
          "scattergl": [
           {
            "marker": {
             "colorbar": {
              "outlinewidth": 0,
              "ticks": ""
             }
            },
            "type": "scattergl"
           }
          ],
          "scattermapbox": [
           {
            "marker": {
             "colorbar": {
              "outlinewidth": 0,
              "ticks": ""
             }
            },
            "type": "scattermapbox"
           }
          ],
          "scatterpolar": [
           {
            "marker": {
             "colorbar": {
              "outlinewidth": 0,
              "ticks": ""
             }
            },
            "type": "scatterpolar"
           }
          ],
          "scatterpolargl": [
           {
            "marker": {
             "colorbar": {
              "outlinewidth": 0,
              "ticks": ""
             }
            },
            "type": "scatterpolargl"
           }
          ],
          "scatterternary": [
           {
            "marker": {
             "colorbar": {
              "outlinewidth": 0,
              "ticks": ""
             }
            },
            "type": "scatterternary"
           }
          ],
          "surface": [
           {
            "colorbar": {
             "outlinewidth": 0,
             "ticks": ""
            },
            "colorscale": [
             [
              0,
              "#0d0887"
             ],
             [
              0.1111111111111111,
              "#46039f"
             ],
             [
              0.2222222222222222,
              "#7201a8"
             ],
             [
              0.3333333333333333,
              "#9c179e"
             ],
             [
              0.4444444444444444,
              "#bd3786"
             ],
             [
              0.5555555555555556,
              "#d8576b"
             ],
             [
              0.6666666666666666,
              "#ed7953"
             ],
             [
              0.7777777777777778,
              "#fb9f3a"
             ],
             [
              0.8888888888888888,
              "#fdca26"
             ],
             [
              1,
              "#f0f921"
             ]
            ],
            "type": "surface"
           }
          ],
          "table": [
           {
            "cells": {
             "fill": {
              "color": "#EBF0F8"
             },
             "line": {
              "color": "white"
             }
            },
            "header": {
             "fill": {
              "color": "#C8D4E3"
             },
             "line": {
              "color": "white"
             }
            },
            "type": "table"
           }
          ]
         },
         "layout": {
          "annotationdefaults": {
           "arrowcolor": "#2a3f5f",
           "arrowhead": 0,
           "arrowwidth": 1
          },
          "autotypenumbers": "strict",
          "coloraxis": {
           "colorbar": {
            "outlinewidth": 0,
            "ticks": ""
           }
          },
          "colorscale": {
           "diverging": [
            [
             0,
             "#8e0152"
            ],
            [
             0.1,
             "#c51b7d"
            ],
            [
             0.2,
             "#de77ae"
            ],
            [
             0.3,
             "#f1b6da"
            ],
            [
             0.4,
             "#fde0ef"
            ],
            [
             0.5,
             "#f7f7f7"
            ],
            [
             0.6,
             "#e6f5d0"
            ],
            [
             0.7,
             "#b8e186"
            ],
            [
             0.8,
             "#7fbc41"
            ],
            [
             0.9,
             "#4d9221"
            ],
            [
             1,
             "#276419"
            ]
           ],
           "sequential": [
            [
             0,
             "#0d0887"
            ],
            [
             0.1111111111111111,
             "#46039f"
            ],
            [
             0.2222222222222222,
             "#7201a8"
            ],
            [
             0.3333333333333333,
             "#9c179e"
            ],
            [
             0.4444444444444444,
             "#bd3786"
            ],
            [
             0.5555555555555556,
             "#d8576b"
            ],
            [
             0.6666666666666666,
             "#ed7953"
            ],
            [
             0.7777777777777778,
             "#fb9f3a"
            ],
            [
             0.8888888888888888,
             "#fdca26"
            ],
            [
             1,
             "#f0f921"
            ]
           ],
           "sequentialminus": [
            [
             0,
             "#0d0887"
            ],
            [
             0.1111111111111111,
             "#46039f"
            ],
            [
             0.2222222222222222,
             "#7201a8"
            ],
            [
             0.3333333333333333,
             "#9c179e"
            ],
            [
             0.4444444444444444,
             "#bd3786"
            ],
            [
             0.5555555555555556,
             "#d8576b"
            ],
            [
             0.6666666666666666,
             "#ed7953"
            ],
            [
             0.7777777777777778,
             "#fb9f3a"
            ],
            [
             0.8888888888888888,
             "#fdca26"
            ],
            [
             1,
             "#f0f921"
            ]
           ]
          },
          "colorway": [
           "#636efa",
           "#EF553B",
           "#00cc96",
           "#ab63fa",
           "#FFA15A",
           "#19d3f3",
           "#FF6692",
           "#B6E880",
           "#FF97FF",
           "#FECB52"
          ],
          "font": {
           "color": "#2a3f5f"
          },
          "geo": {
           "bgcolor": "white",
           "lakecolor": "white",
           "landcolor": "#E5ECF6",
           "showlakes": true,
           "showland": true,
           "subunitcolor": "white"
          },
          "hoverlabel": {
           "align": "left"
          },
          "hovermode": "closest",
          "mapbox": {
           "style": "light"
          },
          "paper_bgcolor": "white",
          "plot_bgcolor": "#E5ECF6",
          "polar": {
           "angularaxis": {
            "gridcolor": "white",
            "linecolor": "white",
            "ticks": ""
           },
           "bgcolor": "#E5ECF6",
           "radialaxis": {
            "gridcolor": "white",
            "linecolor": "white",
            "ticks": ""
           }
          },
          "scene": {
           "xaxis": {
            "backgroundcolor": "#E5ECF6",
            "gridcolor": "white",
            "gridwidth": 2,
            "linecolor": "white",
            "showbackground": true,
            "ticks": "",
            "zerolinecolor": "white"
           },
           "yaxis": {
            "backgroundcolor": "#E5ECF6",
            "gridcolor": "white",
            "gridwidth": 2,
            "linecolor": "white",
            "showbackground": true,
            "ticks": "",
            "zerolinecolor": "white"
           },
           "zaxis": {
            "backgroundcolor": "#E5ECF6",
            "gridcolor": "white",
            "gridwidth": 2,
            "linecolor": "white",
            "showbackground": true,
            "ticks": "",
            "zerolinecolor": "white"
           }
          },
          "shapedefaults": {
           "line": {
            "color": "#2a3f5f"
           }
          },
          "ternary": {
           "aaxis": {
            "gridcolor": "white",
            "linecolor": "white",
            "ticks": ""
           },
           "baxis": {
            "gridcolor": "white",
            "linecolor": "white",
            "ticks": ""
           },
           "bgcolor": "#E5ECF6",
           "caxis": {
            "gridcolor": "white",
            "linecolor": "white",
            "ticks": ""
           }
          },
          "title": {
           "x": 0.05
          },
          "xaxis": {
           "automargin": true,
           "gridcolor": "white",
           "linecolor": "white",
           "ticks": "",
           "title": {
            "standoff": 15
           },
           "zerolinecolor": "white",
           "zerolinewidth": 2
          },
          "yaxis": {
           "automargin": true,
           "gridcolor": "white",
           "linecolor": "white",
           "ticks": "",
           "title": {
            "standoff": 15
           },
           "zerolinecolor": "white",
           "zerolinewidth": 2
          }
         }
        },
        "title": {
         "text": "Actual vs Predicted Values"
        },
        "xaxis": {
         "title": {
          "text": "Index"
         }
        },
        "yaxis": {
         "title": {
          "text": "Outage Duration"
         }
        }
       }
      }
     },
     "metadata": {},
     "output_type": "display_data"
    }
   ],
   "source": [
    "#################################\n",
    "#     PLOT FINAL MODEL          #\n",
    "#################################\n",
    "\n",
    "trace0 = go.Scatter(\n",
    "    x=np.arange(len(y_test)),\n",
    "    y=y_test,\n",
    "    mode='markers',\n",
    "    name='Actual Values'\n",
    ")\n",
    "trace1 = go.Scatter(\n",
    "    x=np.arange(len(y_pred)),\n",
    "    y=y_pred,\n",
    "    mode='markers',\n",
    "    name='Predicted Values'\n",
    ")\n",
    "\n",
    "# Create layout\n",
    "layout = go.Layout(\n",
    "    title='Actual vs Predicted Values',\n",
    "    xaxis=dict(title='Index'),\n",
    "    yaxis=dict(title='Outage Duration')\n",
    ")\n",
    "\n",
    "# Create figure and add traces\n",
    "fig = go.Figure(data=[trace0, trace1], layout=layout)\n",
    "\n",
    "# Show plot\n",
    "fig.show()"
   ]
  },
  {
   "cell_type": "markdown",
   "metadata": {},
   "source": [
    "### Fairness Analysis"
   ]
  },
  {
   "cell_type": "markdown",
   "metadata": {},
   "source": [
    "Does our model work better on normal vs. warm and cold CLIMATE.CATEGORY"
   ]
  },
  {
   "cell_type": "code",
   "execution_count": 104,
   "metadata": {
    "ExecuteTime": {
     "end_time": "2019-10-31T23:36:28.666489Z",
     "start_time": "2019-10-31T23:36:28.664381Z"
    }
   },
   "outputs": [
    {
     "name": "stdout",
     "output_type": "stream",
     "text": [
      "Observed difference in RMSE: 410.7924950725451\n",
      "P-value: 0.437\n"
     ]
    }
   ],
   "source": [
    "##############################\n",
    "#       FAIRNESS ANALYSIS    #\n",
    "##############################\n",
    "\n",
    "features = ['NERC.REGION', 'CLIMATE.REGION', 'ANOMALY.LEVEL', 'CLIMATE.CATEGORY', 'CAUSE.CATEGORY',\n",
    "            'CUSTOMERS.AFFECTED', 'POPULATION', 'U.S._STATE', 'CAUSE.CATEGORY.DETAIL',\n",
    "            'PI.UTIL.OFUSA']\n",
    "target = 'OUTAGE.DURATION'\n",
    "\n",
    "X = df[features]\n",
    "y = df[target]\n",
    "\n",
    "# Split the data\n",
    "X_train, X_test, y_train, y_test = train_test_split(X, y, test_size=0.2)\n",
    "\n",
    "# Split the test data based on climate category\n",
    "normal_data = X_test[X_test['CLIMATE.CATEGORY'] == 'normal']\n",
    "warm_cold_data = X_test[X_test['CLIMATE.CATEGORY'].isin(['warm', 'cold'])]\n",
    "\n",
    "# Predict and calculate metrics for each group\n",
    "y_pred_normal = grid_search.predict(normal_data)\n",
    "y_pred_warm_cold = grid_search.predict(warm_cold_data)\n",
    "\n",
    "rmse_normal = np.sqrt(mean_squared_error(y_test.loc[normal_data.index], y_pred_normal))\n",
    "rmse_warm_cold = np.sqrt(mean_squared_error(y_test.loc[warm_cold_data.index], y_pred_warm_cold))\n",
    "\n",
    "# Permutation test\n",
    "n_permutations = 1000\n",
    "rmse_diffs = []\n",
    "\n",
    "for _ in range(n_permutations):\n",
    "    # Shuffle the CLIMATE.CATEGORY values\n",
    "    shuffled_category = np.random.permutation(X_test['CLIMATE.CATEGORY'])\n",
    "    \n",
    "    # Split the data based on shuffled categories\n",
    "    normal_shuffled = X_test[shuffled_category == 'normal']\n",
    "    warm_cold_shuffled = X_test[np.isin(shuffled_category, ['warm', 'cold'])]\n",
    "    \n",
    "    # Predict and calculate metrics\n",
    "    y_pred_normal_shuffled = grid_search.predict(normal_shuffled)\n",
    "    y_pred_warm_cold_shuffled = grid_search.predict(warm_cold_shuffled)\n",
    "    \n",
    "    rmse_normal_shuffled = np.sqrt(mean_squared_error(y_test.loc[normal_shuffled.index], y_pred_normal_shuffled))\n",
    "    rmse_warm_cold_shuffled = np.sqrt(mean_squared_error(y_test.loc[warm_cold_shuffled.index], y_pred_warm_cold_shuffled))\n",
    "\n",
    "    # Compute the difference in RMSE\n",
    "    diff = rmse_normal_shuffled - rmse_warm_cold_shuffled\n",
    "    rmse_diffs.append(diff)\n",
    "\n",
    "# Analyze the permutation test results\n",
    "observed_diff = rmse_normal - rmse_warm_cold\n",
    "p_value = np.sum(np.abs(rmse_diffs) >= np.abs(observed_diff)) / n_permutations\n",
    "\n",
    "# Results\n",
    "print(f\"Observed difference in RMSE: {observed_diff}\")\n",
    "print(f\"P-value: {p_value}\")"
   ]
  },
  {
   "cell_type": "code",
   "execution_count": 108,
   "metadata": {},
   "outputs": [
    {
     "data": {
      "application/vnd.plotly.v1+json": {
       "config": {
        "plotlyServerURL": "https://plot.ly"
       },
       "data": [
        {
         "name": "Permutation Differences",
         "nbinsx": 40,
         "type": "histogram",
         "x": [
          246.18356235401507,
          9.30541884463446,
          -203.00119422201305,
          636.9609800925814,
          -653.187744748428,
          -605.561996539499,
          175.5330395218407,
          -86.38803425503102,
          125.75978283737322,
          -703.6942226260499,
          -627.6484866945143,
          -337.5336888976176,
          -208.00632158858434,
          580.4800835784499,
          4.2531807142795515,
          -462.94930705133083,
          -71.54627895648673,
          -395.7110777639514,
          -287.81047572784655,
          583.2265855954906,
          -43.69250468166865,
          -1071.890520115605,
          128.00859692692575,
          267.564087084686,
          262.8273369738663,
          -909.3568210750623,
          261.5113571385664,
          -209.1354477261002,
          -333.88394646751885,
          -331.8169529153106,
          -146.42639966932165,
          524.2281377969716,
          -716.7292756384213,
          234.31130946168378,
          202.86161238699242,
          -153.71793399165608,
          -446.84594915192656,
          63.641737047229526,
          26.50165417725566,
          -192.75102880060967,
          -222.72337201942128,
          -483.8265369226415,
          -648.472121970515,
          -633.4608863760286,
          -682.3815699156951,
          -101.01044842779038,
          13.04047419399194,
          -354.04083791332096,
          -352.5963390628881,
          -299.8934975001712,
          49.56625836916464,
          428.12162157548437,
          -645.8561815704825,
          494.5434882895079,
          414.89333291958883,
          -588.3309299647008,
          368.08317262265746,
          108.6940819706092,
          226.6220156843683,
          114.64419639730022,
          -1236.4390937586038,
          415.62667599040606,
          -662.7353240322568,
          -245.480502868837,
          428.0594806997301,
          316.1952956408559,
          780.2449603034263,
          825.8772929830004,
          -986.6586113749936,
          438.51336422586655,
          351.61597210896343,
          -793.8110298388954,
          -658.836413312526,
          174.23366005954085,
          -252.05647310028644,
          -741.8761789703128,
          -255.38060201383223,
          135.79150869430623,
          -549.8996856787458,
          -397.67348653636145,
          545.3241146519099,
          660.2661476595035,
          516.1741357679934,
          126.24598639631267,
          -589.7994908080937,
          -83.56195348889378,
          348.3588990747203,
          -491.4637276018393,
          26.29308890242328,
          103.27466403081826,
          -174.8058436320698,
          -403.16057169379155,
          -903.6308201884049,
          -651.6579710971725,
          883.049709564621,
          -375.75800076741416,
          -330.186249237991,
          -256.3604190831843,
          -132.95477328080506,
          -292.80471113510475,
          -277.49591874072394,
          -365.85010731119974,
          1.3946722763494108,
          -894.7846617569912,
          -661.6970830592904,
          -1164.3435080220452,
          -236.79862198751653,
          -623.7322660076243,
          -157.96857813977658,
          27.894315224043567,
          47.28500683443235,
          -28.41835599218075,
          -301.8323371324336,
          -673.4541876142493,
          423.0728802624426,
          -25.61216736187089,
          772.7023670209287,
          338.0659131297657,
          418.8872078407876,
          -270.9056706336992,
          281.35987157493037,
          224.65991748066244,
          -1021.3842454998799,
          590.130721668469,
          1259.2292888413579,
          -598.9526364774515,
          -653.5833447241098,
          -85.26797492828291,
          611.4806931781609,
          450.75232515466223,
          -599.8222425905251,
          -397.4898311027432,
          -373.7403063217653,
          -15.329844481585951,
          233.6269272536938,
          -651.0386207036174,
          -50.91710584250541,
          124.4939658724179,
          428.31425173563866,
          -39.25999649470805,
          79.23875885816824,
          -1057.484209717701,
          -586.3645778160253,
          603.1515453111037,
          -717.7464546400297,
          136.7793180623421,
          48.16009698767584,
          -41.268177761354764,
          -209.4359935288703,
          -1307.8108989086118,
          -131.24007009550087,
          429.35781890792487,
          -23.53058350964784,
          -716.9634307392241,
          919.0780807857086,
          -220.92740731771892,
          1217.9278935906798,
          -552.2444929284507,
          166.70210365198045,
          -343.9683957754046,
          -367.62089941928116,
          465.3090565998459,
          -706.200198311235,
          649.6478136964497,
          -111.64857947997461,
          -46.11383056837167,
          134.15187819177663,
          -426.8638801210832,
          225.33614725472262,
          561.3750989934642,
          354.6513729940252,
          670.8600179680752,
          548.7861071790426,
          -1239.0899818084752,
          -432.3113870403163,
          -204.8006807985421,
          386.9383124021556,
          -88.88616828194108,
          886.1476968102072,
          -266.6286344768878,
          -995.5534491231458,
          -788.1983480358072,
          19.849181622559172,
          340.527998116921,
          -1560.4711261419889,
          -208.91661869326526,
          456.2724108629641,
          262.54145285200957,
          -787.540488699367,
          439.0080251377726,
          447.4907677728279,
          807.5203276123684,
          -557.866219914461,
          -250.45361323127054,
          -745.2973993287346,
          285.8738492316297,
          -336.422892046347,
          -569.5338771824918,
          -6.90709043692641,
          200.51740912141395,
          539.0462560188535,
          495.5007525755577,
          -301.15755686243665,
          -203.59412028897486,
          182.2569589472414,
          -781.1158142686579,
          -468.96821414917895,
          460.2950843125809,
          392.7637674043308,
          25.79662176031161,
          179.42161654992606,
          -879.4393219428398,
          -459.79997088748996,
          -92.97951696575956,
          282.3467117745672,
          -589.9329927343006,
          203.78178591691722,
          -765.6143643677062,
          893.3024578971558,
          289.87496670392875,
          -852.2034166410422,
          -662.0585730519083,
          32.4782672530323,
          -14.029400219636955,
          -149.0412502058325,
          1098.9365037869798,
          -156.24716106587448,
          -129.26261720333014,
          1066.70875063756,
          -476.84891012277194,
          194.34996941554346,
          471.7885052398674,
          -201.0693560585205,
          634.3726574084699,
          125.96250124356948,
          -241.56923289201768,
          -689.6077178723015,
          548.1180668080074,
          295.54488033096413,
          111.1460450055315,
          38.04603893043759,
          -420.4598325766624,
          92.61693712317629,
          307.12898114076006,
          -283.06833884710204,
          -381.1106292915242,
          248.93407094506347,
          -545.5868684971497,
          510.9273096854249,
          1116.9400978214014,
          -92.5927758351304,
          446.32787030672716,
          975.8281532204735,
          219.48204700456336,
          -625.0796454130641,
          -88.29929378647103,
          389.00888770486654,
          -340.2294334327148,
          -199.75084513035563,
          -156.14232571299908,
          -49.71425359995101,
          -963.5683933527907,
          -180.8196893781419,
          246.07426943941437,
          550.2731401026631,
          538.880835435315,
          -10.73607899529361,
          -922.2612095351224,
          303.6971695986763,
          -605.9984745532252,
          -252.11996093996459,
          996.4809082722072,
          -65.48972216922266,
          -560.9693142335027,
          -33.392574288107426,
          -150.52757265570335,
          160.44373675633688,
          -75.30760441884058,
          449.51026208230996,
          -32.36814827571652,
          147.34658242931982,
          393.7777260748221,
          557.8727298264039,
          432.3439707521261,
          30.231091644426215,
          328.78569720168935,
          -117.93899988339808,
          622.4468311275596,
          10.353138903892614,
          294.1287274483775,
          186.12960836983484,
          265.5548876383582,
          -554.5967761467477,
          154.14783791633454,
          592.8403895534575,
          -200.69279621621126,
          786.6643484953604,
          175.19897389984135,
          844.4672179435524,
          577.0436708107395,
          165.74275558704494,
          -691.2331474933335,
          443.8920434492243,
          -1059.625883037373,
          -217.48553871089234,
          186.6698088178532,
          391.5011362474329,
          -1188.0004614852364,
          374.0790844995108,
          -721.868524383158,
          -93.74871866687681,
          -149.98598329646074,
          223.14396597027326,
          642.300373373258,
          -491.95511040143265,
          -750.7604136473594,
          284.66626394940977,
          826.3554052532415,
          -394.40553574374326,
          225.29129600802753,
          660.3757796665595,
          -307.4300990992433,
          589.4328573952421,
          770.0695790367008,
          -389.5797045730369,
          -604.0439313773886,
          -312.03587122024965,
          -1150.2913041756776,
          -552.7021678583324,
          -826.0016275420703,
          633.077962546025,
          -23.761627414366558,
          148.72941831362232,
          -103.18172966571183,
          375.93771280004694,
          149.70564082469173,
          -1158.1146794832448,
          1.5710260816804293,
          -239.6268413909329,
          291.32379230004426,
          -538.8745916067332,
          928.8567683310416,
          -234.0699451899195,
          -203.9372459791539,
          -596.2447099540095,
          -293.4713303352851,
          592.099455814222,
          415.39116497970144,
          541.8676995717365,
          -450.2096803420686,
          154.45798201480784,
          -10.925360103260118,
          -211.61813073792018,
          -335.49072150881693,
          196.07717034692405,
          631.4060420108895,
          -202.35241284590074,
          -873.3441447478576,
          327.26808185753043,
          -472.6029457541649,
          -668.2423503286002,
          -426.95768547547004,
          -259.1700141737356,
          580.301680621475,
          -223.84869382474562,
          -377.99652610830753,
          -245.95948231919147,
          250.28012182793054,
          -276.78880017196934,
          302.1274195278438,
          -338.3539983702535,
          -987.3621238549722,
          122.28014365246281,
          355.2360529204616,
          -120.71869044626737,
          -399.90530742000874,
          -652.4021203785694,
          -65.71406286993897,
          152.36205544868608,
          446.2733560639772,
          692.6148965258351,
          650.3060206244968,
          143.50162274458762,
          572.9358364350719,
          -407.4048707219281,
          51.317301146511,
          198.63191949302018,
          -338.1937986557705,
          -718.6832668868265,
          424.6107723728451,
          -419.4799223999926,
          -425.35538478251647,
          861.8283934244475,
          -69.82577013802893,
          -325.32979644288525,
          -186.2678657864967,
          341.81698077598367,
          -107.9249936904398,
          -214.5759462316223,
          -140.68849989034288,
          -89.50055508657306,
          -550.7353003517619,
          -645.8681242294649,
          997.8435777132465,
          34.310877090897975,
          -53.72644441443208,
          897.8169371283957,
          447.17916836846734,
          5.136423021375776,
          50.13668780036187,
          -2.8950013991347987,
          -416.3422056752461,
          -142.21353825996584,
          -28.76901201219789,
          -672.9578318387914,
          -510.982819046475,
          265.4151650590097,
          731.4180382522477,
          -183.23946153777115,
          -704.3536905894375,
          375.144502162525,
          -534.2287009252605,
          661.6011191361463,
          -472.0696993319607,
          -25.342569031190123,
          -77.28947276117378,
          -776.3932756676479,
          -346.77332539393865,
          745.0837536814117,
          -1130.0728218369031,
          223.67729679656213,
          533.183383380378,
          250.68824569196113,
          1125.8462758313085,
          -44.892884891837184,
          -807.4515440840205,
          -233.18381618830063,
          557.336148510899,
          435.44545496511546,
          214.41932753637593,
          -500.183097676776,
          -90.91258453855016,
          385.0914691921935,
          683.5794939021321,
          -729.3817462099621,
          520.0579654132162,
          224.19975681103415,
          -21.226024778990904,
          602.1290832313744,
          360.2244350921155,
          917.7780825300331,
          558.4273061411936,
          39.71487073732351,
          -108.34574561930049,
          -120.2238799257666,
          18.954722919738742,
          -359.3466895256879,
          62.11618755841209,
          -670.7421349297742,
          -795.8715049009154,
          -454.8531545376618,
          1241.6366708499231,
          -91.4083166993264,
          158.58289382254497,
          742.1106547542106,
          -118.41191969883585,
          -295.3338692857751,
          182.18874906803057,
          -398.2338242702276,
          -327.1872343159307,
          -532.008143370213,
          -128.01364500010732,
          339.12636437433775,
          964.6084862205571,
          -4.772550146141839,
          -528.4126826091833,
          -115.13205942891727,
          -59.27874002335466,
          633.8555550395818,
          857.7499756755601,
          44.51442721260355,
          -21.058703716658783,
          -426.40885177232167,
          816.3898548484503,
          -809.5904964231227,
          312.3191318573254,
          -1056.252635147796,
          -67.61994816681909,
          474.69224550101535,
          303.4312783397522,
          472.6494833175584,
          685.0457902791118,
          244.69928200349386,
          6.816461119263295,
          195.80761886332448,
          -166.12989160892494,
          375.3049872133138,
          318.1453043666029,
          -820.2519260474273,
          639.6480113582516,
          -516.068467457706,
          -480.66225621451576,
          -384.350788628411,
          24.593366514959598,
          -872.3524479286041,
          619.2482736455154,
          324.32515696061,
          41.839114207668445,
          63.54399530901992,
          498.51098045901745,
          333.64223420764984,
          243.95021427008032,
          440.7374826712021,
          -316.9986540396335,
          -424.5736987339774,
          541.4678046627109,
          -376.6263945044102,
          -494.9987670534806,
          302.488598623303,
          406.87289328730867,
          19.303075481345786,
          89.67316574115284,
          -622.8871267907857,
          -518.4274139631862,
          257.9856697248997,
          -217.94652148122987,
          734.9179690209762,
          553.2072391054617,
          52.888481505696745,
          -137.31789027066407,
          -195.96541472545823,
          666.873825126796,
          -546.54177125254,
          -146.4714756939211,
          645.3256987465297,
          -535.1623923331513,
          -244.88876629644483,
          -769.063430325052,
          382.3214657226122,
          200.25429587722556,
          555.4638767876859,
          200.29222887278183,
          139.07772100881402,
          -71.66437071779683,
          777.9530449729061,
          -336.8649923338089,
          -49.22344525072185,
          -151.62557349980898,
          -905.7363585629682,
          -588.5104516404926,
          -212.78285993162353,
          448.4471520856496,
          329.68398709616804,
          -147.44458556690233,
          -223.5712892818724,
          -546.6688221574827,
          147.5434421770101,
          498.0274709202604,
          20.239709546274753,
          -242.13710350400743,
          -324.43826292856556,
          -231.1994791881557,
          -202.80388047702718,
          227.68216738335832,
          925.2761812274368,
          -806.887381453459,
          -635.1791412008893,
          403.6312489101897,
          -872.0787809986768,
          -282.5478840026417,
          331.0789921438277,
          -186.96445524790352,
          304.1014750548761,
          -500.33488716069496,
          1048.3249993175048,
          -46.94766151825388,
          -692.154716639554,
          277.72522051656233,
          670.681556512212,
          315.3185011987298,
          -1027.391146723534,
          -246.90478686674714,
          -389.4478076784508,
          -249.95680279157023,
          776.7016036057812,
          1089.2400972673604,
          -328.2534399591009,
          -253.00706874457,
          -116.28730772025528,
          41.34160627965366,
          392.66508826891686,
          1157.8012996753735,
          -594.6618092692752,
          750.0513342602299,
          502.56111715694806,
          -191.09771652213294,
          55.400472963447555,
          -530.3910064184506,
          259.1515783922032,
          67.54127346854966,
          12.696658313520857,
          456.98315165778195,
          -607.7052565072622,
          -544.1328927751315,
          -180.71461893921332,
          629.1443866121144,
          -614.90524123569,
          541.1909530809885,
          251.63633496499642,
          -330.9682078805663,
          422.9348705871903,
          -232.19787015204884,
          -173.40718658002243,
          -47.78660764682991,
          -355.5339605191316,
          292.1400321782744,
          -617.0714059737143,
          -656.4635264644901,
          -561.2054736244013,
          272.1613626201911,
          -558.1693359384394,
          140.69262803309311,
          17.304236198351646,
          814.0653992271384,
          73.81413958572557,
          -490.31928785785794,
          -192.30539641265386,
          -143.9703588693651,
          -355.25349537557577,
          -6.546718036981019,
          250.50084218620123,
          210.5583638036237,
          -102.11533946292911,
          -557.8533101681596,
          -242.56150297559225,
          -565.1248146588582,
          -218.80037239488956,
          426.39067577256355,
          112.34329502254968,
          -449.2151655182897,
          -696.7105587396668,
          74.73028357113799,
          -308.04860324595757,
          -456.4015056236876,
          774.9131397096878,
          -1059.8937321981284,
          -117.74751643057652,
          691.3748515404166,
          266.25334116773456,
          355.4732422339507,
          23.36803551562116,
          425.4349556469401,
          -161.738592778333,
          -1007.5245189138684,
          -478.7214067188438,
          -591.9806668891474,
          -2.031347009927231,
          -112.86848173975113,
          364.2138409276099,
          -186.14533317228688,
          -1268.3782981961353,
          25.112848390687304,
          -983.75838631646,
          -336.0142852366407,
          471.804374379351,
          426.1053426742469,
          279.9330527827551,
          -427.1535685902045,
          377.8078849588046,
          58.05068224115985,
          69.0423761818397,
          -117.32781925356039,
          282.6930472068384,
          -476.49950430174067,
          -418.0672642310137,
          372.14012842148213,
          -698.4248953799679,
          346.44536716633957,
          125.20537106043503,
          310.5453380203421,
          1020.2181371406191,
          89.88467647845255,
          403.6675252070472,
          254.0243351772483,
          -360.9804340504138,
          -21.434001216513025,
          -227.59840660902046,
          -811.8143658626525,
          322.7033254967964,
          -236.70210467811376,
          -230.3383170059733,
          378.7542307756844,
          -1427.5035189250793,
          -695.6630820333498,
          1046.418097998076,
          -63.980199233860276,
          -647.474638042987,
          -397.194675764792,
          330.2481316778085,
          -390.6972746271208,
          -592.6427763526644,
          672.7659004078823,
          181.79469135867112,
          -433.2554412863151,
          1161.7635983417129,
          -339.9103448187516,
          143.82353423847007,
          -166.6995433041352,
          -810.3648513863618,
          203.17508330601595,
          -114.06880052183487,
          531.8349680298857,
          239.24071786093737,
          729.8253726663313,
          451.3068120503408,
          592.3279851957609,
          -328.0201829710122,
          -538.8954707085923,
          -249.51304563062922,
          -94.75681752242917,
          46.10286245193765,
          342.57282969875723,
          -746.2608282197916,
          -19.081513307195564,
          -610.0699867624821,
          -351.6234932722864,
          914.38516436479,
          594.40020409712,
          -103.61452867581147,
          387.382846374921,
          -293.72773115083237,
          -658.8036805968534,
          526.8968183691104,
          140.61240807711647,
          608.5352856395416,
          1012.6754599139042,
          -266.42403474521734,
          -101.06451176427572,
          -271.5111118642167,
          909.5018303198251,
          -1080.8738846849599,
          -668.5699246434287,
          -833.4505129603704,
          423.88439414678214,
          623.6707427721235,
          121.52240806155169,
          -404.74097475382496,
          251.82010372761079,
          -245.00981778238338,
          -225.10399984102878,
          314.81054620450277,
          -1019.4908501966152,
          -468.9497637964355,
          705.9996245823997,
          -370.8847997465664,
          491.8684633149305,
          124.60423775000709,
          1247.6509271697298,
          -527.7232961769269,
          921.6212643476051,
          -255.4060847482492,
          -579.1843754980841,
          466.83476778126806,
          -724.6981714987837,
          -477.0299135262885,
          43.91866725110822,
          215.67015272985418,
          -136.58796018368412,
          126.26696006092925,
          -609.1521978897881,
          270.1221175703322,
          603.489876179287,
          94.11762705911997,
          -860.0651918173396,
          -652.937105734849,
          332.6393574836584,
          -22.42650245868208,
          4.511817916135897,
          -670.3412426104182,
          -869.5716937090899,
          -310.28633437091867,
          -411.9035670116441,
          144.57381122821607,
          -85.95739245413688,
          351.6154448384632,
          -135.1536776847047,
          532.2939127491454,
          -394.5437722556085,
          -540.3330997417511,
          -498.0858561822397,
          -217.26636735450165,
          1014.3771196262146,
          100.91927737473861,
          -1030.7609228642616,
          -555.9911242997714,
          -254.95013077815975,
          -786.7768753842586,
          -703.6940646866622,
          -836.4258903071029,
          -698.0567856368671,
          43.08047321942922,
          -662.0043307329568,
          -364.50576269196836,
          -112.0053539594287,
          707.0670941146082,
          -182.3760205677563,
          -436.4520423677259,
          -89.6079423201054,
          -697.5516586242131,
          511.1516240519568,
          -291.99324899151316,
          391.306922655946,
          -497.64915777950273,
          -126.8813981830508,
          685.1450571408186,
          -506.96472930180516,
          686.5753895431346,
          -138.57156941782569,
          1553.458327927981,
          852.5660298790117,
          -1212.9031599880825,
          -113.86059296139274,
          -728.3880701691176,
          -617.6830552037363,
          550.0780799680579,
          452.0948447027513,
          -373.3854092156175,
          157.01511758199103,
          -141.45650590147852,
          356.39100804583495,
          344.72018666320855,
          -574.5320216387854,
          -559.61259077367,
          -1056.3779940377308,
          -113.2989203907041,
          -282.116644371275,
          -525.9230926103446,
          259.73365856727696,
          130.62187761736186,
          59.054900306485706,
          -795.132898345584,
          440.13068015154704,
          444.65132003918325,
          75.15413333478682,
          948.0664419184541,
          349.94569722753977,
          547.9290116691009,
          -122.42950374713564,
          -202.84186742059728,
          489.3168322838105,
          -640.6890752106738,
          -162.94810970542812,
          -203.6142997745842,
          -254.6390864668142,
          -57.873027404030836,
          522.2041786020154,
          18.447710672181074,
          -568.6388974630477,
          54.725743950160904,
          94.15477962142859,
          -149.6101677346005,
          440.7413659108115,
          374.7885084508698,
          327.71775729141336,
          79.08033436269034,
          430.3503716166424,
          688.0361028642737,
          -82.66975888021443,
          7.096397533274285,
          -4.4196678882090055,
          237.49316875209206,
          -226.8932110332198,
          534.5237863528669,
          1.6923322669731533,
          -18.524644047268794,
          -706.9309702810406,
          654.2815756988211,
          -0.6670575326625112,
          686.7838514046855,
          780.8473697831791,
          -243.29592389094023,
          -585.2466358374945,
          405.36357448391436,
          -102.40033086280164,
          212.57525139016207,
          83.58446388852826,
          -425.0217063798382,
          -577.4876881609821,
          583.8826282498553,
          348.51523678391186,
          -794.8722443030213,
          308.10744461383956,
          -144.21598316920154,
          488.94520450335494,
          -55.94016243338865,
          -506.58975945916836,
          -818.7769419098934,
          192.7607874729183,
          177.3605868912946,
          777.3599415505146,
          332.8151200403872,
          857.8771962477826,
          -39.285628088590784,
          -89.50766843373776,
          -122.48466578246371,
          170.7965624802855,
          -52.44563214754635,
          -163.64385238719842,
          273.960565444218,
          405.3501230301722,
          -665.5629116991906,
          191.77663383832123,
          -253.1642620674197,
          116.96148934626672,
          381.3701716232308,
          490.57942210891906,
          491.4787313068791,
          685.257680993813,
          -344.5622995804356,
          469.2279491523568,
          397.586792623164,
          510.05563609802675,
          359.46473034477094,
          186.4106563390119,
          360.0337369978747,
          -645.1083548443701,
          581.1412868289722,
          -1336.5698944339572,
          29.22106936878481,
          159.3654411756538,
          387.95613629611216,
          -397.6427569420298,
          -121.3855137735136,
          -75.14964756389236,
          -287.4316996842608,
          292.9019646939437,
          -292.60520746402653,
          -616.3860905397551,
          -530.148711983787,
          -29.887321724707363,
          465.0291832861758,
          -364.5654760618936,
          480.2167016452663,
          191.43451595057422,
          -612.4179200960048,
          231.61741068434958,
          -475.9952248019845,
          -1098.0668221057415,
          21.691727955487295,
          85.12015376090721,
          33.52419289586942,
          -366.7906398132095,
          546.8409842961469,
          158.74827276586666,
          -142.64811623897913,
          968.2387035918725,
          51.77642277410632,
          215.60896106734754,
          268.20151509526886,
          -84.28862707451435,
          -217.7772874454131,
          -811.0515711898811,
          748.6006078845078,
          -621.274737769174,
          404.7980219948031,
          116.9411339743724,
          178.53080099446015,
          -476.0890832589057,
          834.5973511265245,
          -194.8251788537318,
          557.9869277024072,
          266.2346604656145,
          298.61208437834466,
          316.42021811664563,
          -435.72673711768994,
          1123.5608858831222,
          -24.795136664945403,
          149.1933764321475,
          153.784881216754,
          -379.37007467524745,
          500.4588046873823,
          -65.04198606700584,
          453.73833670957856,
          114.52076179646792,
          -667.0258956274079,
          -928.6623212579057,
          -19.66069320446877,
          -251.41365000348242,
          266.60342791929406,
          -556.5540906229917,
          134.50782677284724,
          7.445448845540341,
          -66.3128482062748,
          -155.47305428144182,
          -823.3440035327003,
          371.09450418462075,
          54.07563342388812,
          621.558090718052,
          -469.3834760370005,
          866.4860961522518
         ]
        },
        {
         "marker": {
          "color": "red",
          "size": 10
         },
         "mode": "markers",
         "name": "Observed Difference",
         "type": "scatter",
         "x": [
          410.7924950725451
         ],
         "y": [
          0
         ]
        }
       ],
       "layout": {
        "bargap": 0.2,
        "template": {
         "data": {
          "bar": [
           {
            "error_x": {
             "color": "#2a3f5f"
            },
            "error_y": {
             "color": "#2a3f5f"
            },
            "marker": {
             "line": {
              "color": "#E5ECF6",
              "width": 0.5
             },
             "pattern": {
              "fillmode": "overlay",
              "size": 10,
              "solidity": 0.2
             }
            },
            "type": "bar"
           }
          ],
          "barpolar": [
           {
            "marker": {
             "line": {
              "color": "#E5ECF6",
              "width": 0.5
             },
             "pattern": {
              "fillmode": "overlay",
              "size": 10,
              "solidity": 0.2
             }
            },
            "type": "barpolar"
           }
          ],
          "carpet": [
           {
            "aaxis": {
             "endlinecolor": "#2a3f5f",
             "gridcolor": "white",
             "linecolor": "white",
             "minorgridcolor": "white",
             "startlinecolor": "#2a3f5f"
            },
            "baxis": {
             "endlinecolor": "#2a3f5f",
             "gridcolor": "white",
             "linecolor": "white",
             "minorgridcolor": "white",
             "startlinecolor": "#2a3f5f"
            },
            "type": "carpet"
           }
          ],
          "choropleth": [
           {
            "colorbar": {
             "outlinewidth": 0,
             "ticks": ""
            },
            "type": "choropleth"
           }
          ],
          "contour": [
           {
            "colorbar": {
             "outlinewidth": 0,
             "ticks": ""
            },
            "colorscale": [
             [
              0,
              "#0d0887"
             ],
             [
              0.1111111111111111,
              "#46039f"
             ],
             [
              0.2222222222222222,
              "#7201a8"
             ],
             [
              0.3333333333333333,
              "#9c179e"
             ],
             [
              0.4444444444444444,
              "#bd3786"
             ],
             [
              0.5555555555555556,
              "#d8576b"
             ],
             [
              0.6666666666666666,
              "#ed7953"
             ],
             [
              0.7777777777777778,
              "#fb9f3a"
             ],
             [
              0.8888888888888888,
              "#fdca26"
             ],
             [
              1,
              "#f0f921"
             ]
            ],
            "type": "contour"
           }
          ],
          "contourcarpet": [
           {
            "colorbar": {
             "outlinewidth": 0,
             "ticks": ""
            },
            "type": "contourcarpet"
           }
          ],
          "heatmap": [
           {
            "colorbar": {
             "outlinewidth": 0,
             "ticks": ""
            },
            "colorscale": [
             [
              0,
              "#0d0887"
             ],
             [
              0.1111111111111111,
              "#46039f"
             ],
             [
              0.2222222222222222,
              "#7201a8"
             ],
             [
              0.3333333333333333,
              "#9c179e"
             ],
             [
              0.4444444444444444,
              "#bd3786"
             ],
             [
              0.5555555555555556,
              "#d8576b"
             ],
             [
              0.6666666666666666,
              "#ed7953"
             ],
             [
              0.7777777777777778,
              "#fb9f3a"
             ],
             [
              0.8888888888888888,
              "#fdca26"
             ],
             [
              1,
              "#f0f921"
             ]
            ],
            "type": "heatmap"
           }
          ],
          "heatmapgl": [
           {
            "colorbar": {
             "outlinewidth": 0,
             "ticks": ""
            },
            "colorscale": [
             [
              0,
              "#0d0887"
             ],
             [
              0.1111111111111111,
              "#46039f"
             ],
             [
              0.2222222222222222,
              "#7201a8"
             ],
             [
              0.3333333333333333,
              "#9c179e"
             ],
             [
              0.4444444444444444,
              "#bd3786"
             ],
             [
              0.5555555555555556,
              "#d8576b"
             ],
             [
              0.6666666666666666,
              "#ed7953"
             ],
             [
              0.7777777777777778,
              "#fb9f3a"
             ],
             [
              0.8888888888888888,
              "#fdca26"
             ],
             [
              1,
              "#f0f921"
             ]
            ],
            "type": "heatmapgl"
           }
          ],
          "histogram": [
           {
            "marker": {
             "pattern": {
              "fillmode": "overlay",
              "size": 10,
              "solidity": 0.2
             }
            },
            "type": "histogram"
           }
          ],
          "histogram2d": [
           {
            "colorbar": {
             "outlinewidth": 0,
             "ticks": ""
            },
            "colorscale": [
             [
              0,
              "#0d0887"
             ],
             [
              0.1111111111111111,
              "#46039f"
             ],
             [
              0.2222222222222222,
              "#7201a8"
             ],
             [
              0.3333333333333333,
              "#9c179e"
             ],
             [
              0.4444444444444444,
              "#bd3786"
             ],
             [
              0.5555555555555556,
              "#d8576b"
             ],
             [
              0.6666666666666666,
              "#ed7953"
             ],
             [
              0.7777777777777778,
              "#fb9f3a"
             ],
             [
              0.8888888888888888,
              "#fdca26"
             ],
             [
              1,
              "#f0f921"
             ]
            ],
            "type": "histogram2d"
           }
          ],
          "histogram2dcontour": [
           {
            "colorbar": {
             "outlinewidth": 0,
             "ticks": ""
            },
            "colorscale": [
             [
              0,
              "#0d0887"
             ],
             [
              0.1111111111111111,
              "#46039f"
             ],
             [
              0.2222222222222222,
              "#7201a8"
             ],
             [
              0.3333333333333333,
              "#9c179e"
             ],
             [
              0.4444444444444444,
              "#bd3786"
             ],
             [
              0.5555555555555556,
              "#d8576b"
             ],
             [
              0.6666666666666666,
              "#ed7953"
             ],
             [
              0.7777777777777778,
              "#fb9f3a"
             ],
             [
              0.8888888888888888,
              "#fdca26"
             ],
             [
              1,
              "#f0f921"
             ]
            ],
            "type": "histogram2dcontour"
           }
          ],
          "mesh3d": [
           {
            "colorbar": {
             "outlinewidth": 0,
             "ticks": ""
            },
            "type": "mesh3d"
           }
          ],
          "parcoords": [
           {
            "line": {
             "colorbar": {
              "outlinewidth": 0,
              "ticks": ""
             }
            },
            "type": "parcoords"
           }
          ],
          "pie": [
           {
            "automargin": true,
            "type": "pie"
           }
          ],
          "scatter": [
           {
            "fillpattern": {
             "fillmode": "overlay",
             "size": 10,
             "solidity": 0.2
            },
            "type": "scatter"
           }
          ],
          "scatter3d": [
           {
            "line": {
             "colorbar": {
              "outlinewidth": 0,
              "ticks": ""
             }
            },
            "marker": {
             "colorbar": {
              "outlinewidth": 0,
              "ticks": ""
             }
            },
            "type": "scatter3d"
           }
          ],
          "scattercarpet": [
           {
            "marker": {
             "colorbar": {
              "outlinewidth": 0,
              "ticks": ""
             }
            },
            "type": "scattercarpet"
           }
          ],
          "scattergeo": [
           {
            "marker": {
             "colorbar": {
              "outlinewidth": 0,
              "ticks": ""
             }
            },
            "type": "scattergeo"
           }
          ],
          "scattergl": [
           {
            "marker": {
             "colorbar": {
              "outlinewidth": 0,
              "ticks": ""
             }
            },
            "type": "scattergl"
           }
          ],
          "scattermapbox": [
           {
            "marker": {
             "colorbar": {
              "outlinewidth": 0,
              "ticks": ""
             }
            },
            "type": "scattermapbox"
           }
          ],
          "scatterpolar": [
           {
            "marker": {
             "colorbar": {
              "outlinewidth": 0,
              "ticks": ""
             }
            },
            "type": "scatterpolar"
           }
          ],
          "scatterpolargl": [
           {
            "marker": {
             "colorbar": {
              "outlinewidth": 0,
              "ticks": ""
             }
            },
            "type": "scatterpolargl"
           }
          ],
          "scatterternary": [
           {
            "marker": {
             "colorbar": {
              "outlinewidth": 0,
              "ticks": ""
             }
            },
            "type": "scatterternary"
           }
          ],
          "surface": [
           {
            "colorbar": {
             "outlinewidth": 0,
             "ticks": ""
            },
            "colorscale": [
             [
              0,
              "#0d0887"
             ],
             [
              0.1111111111111111,
              "#46039f"
             ],
             [
              0.2222222222222222,
              "#7201a8"
             ],
             [
              0.3333333333333333,
              "#9c179e"
             ],
             [
              0.4444444444444444,
              "#bd3786"
             ],
             [
              0.5555555555555556,
              "#d8576b"
             ],
             [
              0.6666666666666666,
              "#ed7953"
             ],
             [
              0.7777777777777778,
              "#fb9f3a"
             ],
             [
              0.8888888888888888,
              "#fdca26"
             ],
             [
              1,
              "#f0f921"
             ]
            ],
            "type": "surface"
           }
          ],
          "table": [
           {
            "cells": {
             "fill": {
              "color": "#EBF0F8"
             },
             "line": {
              "color": "white"
             }
            },
            "header": {
             "fill": {
              "color": "#C8D4E3"
             },
             "line": {
              "color": "white"
             }
            },
            "type": "table"
           }
          ]
         },
         "layout": {
          "annotationdefaults": {
           "arrowcolor": "#2a3f5f",
           "arrowhead": 0,
           "arrowwidth": 1
          },
          "autotypenumbers": "strict",
          "coloraxis": {
           "colorbar": {
            "outlinewidth": 0,
            "ticks": ""
           }
          },
          "colorscale": {
           "diverging": [
            [
             0,
             "#8e0152"
            ],
            [
             0.1,
             "#c51b7d"
            ],
            [
             0.2,
             "#de77ae"
            ],
            [
             0.3,
             "#f1b6da"
            ],
            [
             0.4,
             "#fde0ef"
            ],
            [
             0.5,
             "#f7f7f7"
            ],
            [
             0.6,
             "#e6f5d0"
            ],
            [
             0.7,
             "#b8e186"
            ],
            [
             0.8,
             "#7fbc41"
            ],
            [
             0.9,
             "#4d9221"
            ],
            [
             1,
             "#276419"
            ]
           ],
           "sequential": [
            [
             0,
             "#0d0887"
            ],
            [
             0.1111111111111111,
             "#46039f"
            ],
            [
             0.2222222222222222,
             "#7201a8"
            ],
            [
             0.3333333333333333,
             "#9c179e"
            ],
            [
             0.4444444444444444,
             "#bd3786"
            ],
            [
             0.5555555555555556,
             "#d8576b"
            ],
            [
             0.6666666666666666,
             "#ed7953"
            ],
            [
             0.7777777777777778,
             "#fb9f3a"
            ],
            [
             0.8888888888888888,
             "#fdca26"
            ],
            [
             1,
             "#f0f921"
            ]
           ],
           "sequentialminus": [
            [
             0,
             "#0d0887"
            ],
            [
             0.1111111111111111,
             "#46039f"
            ],
            [
             0.2222222222222222,
             "#7201a8"
            ],
            [
             0.3333333333333333,
             "#9c179e"
            ],
            [
             0.4444444444444444,
             "#bd3786"
            ],
            [
             0.5555555555555556,
             "#d8576b"
            ],
            [
             0.6666666666666666,
             "#ed7953"
            ],
            [
             0.7777777777777778,
             "#fb9f3a"
            ],
            [
             0.8888888888888888,
             "#fdca26"
            ],
            [
             1,
             "#f0f921"
            ]
           ]
          },
          "colorway": [
           "#636efa",
           "#EF553B",
           "#00cc96",
           "#ab63fa",
           "#FFA15A",
           "#19d3f3",
           "#FF6692",
           "#B6E880",
           "#FF97FF",
           "#FECB52"
          ],
          "font": {
           "color": "#2a3f5f"
          },
          "geo": {
           "bgcolor": "white",
           "lakecolor": "white",
           "landcolor": "#E5ECF6",
           "showlakes": true,
           "showland": true,
           "subunitcolor": "white"
          },
          "hoverlabel": {
           "align": "left"
          },
          "hovermode": "closest",
          "mapbox": {
           "style": "light"
          },
          "paper_bgcolor": "white",
          "plot_bgcolor": "#E5ECF6",
          "polar": {
           "angularaxis": {
            "gridcolor": "white",
            "linecolor": "white",
            "ticks": ""
           },
           "bgcolor": "#E5ECF6",
           "radialaxis": {
            "gridcolor": "white",
            "linecolor": "white",
            "ticks": ""
           }
          },
          "scene": {
           "xaxis": {
            "backgroundcolor": "#E5ECF6",
            "gridcolor": "white",
            "gridwidth": 2,
            "linecolor": "white",
            "showbackground": true,
            "ticks": "",
            "zerolinecolor": "white"
           },
           "yaxis": {
            "backgroundcolor": "#E5ECF6",
            "gridcolor": "white",
            "gridwidth": 2,
            "linecolor": "white",
            "showbackground": true,
            "ticks": "",
            "zerolinecolor": "white"
           },
           "zaxis": {
            "backgroundcolor": "#E5ECF6",
            "gridcolor": "white",
            "gridwidth": 2,
            "linecolor": "white",
            "showbackground": true,
            "ticks": "",
            "zerolinecolor": "white"
           }
          },
          "shapedefaults": {
           "line": {
            "color": "#2a3f5f"
           }
          },
          "ternary": {
           "aaxis": {
            "gridcolor": "white",
            "linecolor": "white",
            "ticks": ""
           },
           "baxis": {
            "gridcolor": "white",
            "linecolor": "white",
            "ticks": ""
           },
           "bgcolor": "#E5ECF6",
           "caxis": {
            "gridcolor": "white",
            "linecolor": "white",
            "ticks": ""
           }
          },
          "title": {
           "x": 0.05
          },
          "xaxis": {
           "automargin": true,
           "gridcolor": "white",
           "linecolor": "white",
           "ticks": "",
           "title": {
            "standoff": 15
           },
           "zerolinecolor": "white",
           "zerolinewidth": 2
          },
          "yaxis": {
           "automargin": true,
           "gridcolor": "white",
           "linecolor": "white",
           "ticks": "",
           "title": {
            "standoff": 15
           },
           "zerolinecolor": "white",
           "zerolinewidth": 2
          }
         }
        },
        "title": {
         "text": "Permutation Test for RMSE Differences"
        },
        "xaxis": {
         "title": {
          "text": "RMSE Difference"
         }
        },
        "yaxis": {
         "title": {
          "text": "Frequency"
         }
        }
       }
      }
     },
     "metadata": {},
     "output_type": "display_data"
    }
   ],
   "source": [
    "#################################\n",
    "#   PLOT FAIRNESS ANALYSIS      #\n",
    "#################################\n",
    "\n",
    "# Create a histogram of the permutation differences\n",
    "fig = go.Figure(data=[go.Histogram(x=rmse_diffs, nbinsx=40, name='Permutation Differences')])\n",
    "\n",
    "# Mark the observed difference\n",
    "fig.add_trace(go.Scatter(\n",
    "    x=[observed_diff],\n",
    "    y=[0],\n",
    "    mode='markers',\n",
    "    marker=dict(color='red', size=10),\n",
    "    name='Observed Difference'\n",
    "))\n",
    "\n",
    "# Update layout for readability\n",
    "fig.update_layout(\n",
    "    title='Permutation Test for RMSE Differences',\n",
    "    xaxis_title='RMSE Difference',\n",
    "    yaxis_title='Frequency',\n",
    "    bargap=0.2\n",
    ")\n",
    "\n",
    "# Show the plot\n",
    "fig.show()\n"
   ]
  }
 ],
 "metadata": {
  "kernelspec": {
   "display_name": "Python 3 (ipykernel)",
   "language": "python",
   "name": "python3"
  },
  "language_info": {
   "codemirror_mode": {
    "name": "ipython",
    "version": 3
   },
   "file_extension": ".py",
   "mimetype": "text/x-python",
   "name": "python",
   "nbconvert_exporter": "python",
   "pygments_lexer": "ipython3",
   "version": "3.8.18"
  }
 },
 "nbformat": 4,
 "nbformat_minor": 2
}
